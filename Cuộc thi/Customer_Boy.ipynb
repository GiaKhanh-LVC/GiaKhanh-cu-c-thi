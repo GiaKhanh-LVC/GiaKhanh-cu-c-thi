{
 "cells": [
  {
   "cell_type": "code",
   "execution_count": 1,
   "metadata": {},
   "outputs": [
    {
     "name": "stdout",
     "output_type": "stream",
     "text": [
      "Customer cols Index(['Shelf ID', 'Person ID', 'Date', 'Time', 'Day', 'Age', 'Gender',\n",
      "       'Height', 'Weight', 'Married status', 'Item ID', 'Looking at item (s)',\n",
      "       'Holding the item (s)', 'Holding the bag', 'Picking up item',\n",
      "       'Returning item', 'Putting item into bag', 'Taking item out of bag',\n",
      "       'Putting item into bag in the 2nd time'],\n",
      "      dtype='object') and lens are 15394\n",
      "Item cols Index(['Shelf ID', 'Item ID', 'Name', 'Origin', 'Price', 'Marketing strategy',\n",
      "       'Discount ', 'Rate'],\n",
      "      dtype='object') and lens are 134\n",
      "Shelf cols Index(['Shelf ID', 'Description', 'Width', 'Height', 'Length',\n",
      "       'Number of items', 'Shape'],\n",
      "      dtype='object') and lens are 8\n"
     ]
    }
   ],
   "source": [
    "import pandas as pd\n",
    "df_customer=pd.read_csv('03_Customer_Behavior_Data_THPT.csv')\n",
    "df_item=pd.read_csv('03_Item_information_Data_THPT.csv')\n",
    "df_shelf=pd.read_csv('03_Shelf_Information_Data_THPT.csv')\n",
    "print(f'Customer cols {df_customer.columns} and lens are {len(df_customer)}')\n",
    "print(f'Item cols {df_item.columns} and lens are {len(df_item)}')\n",
    "print(f'Shelf cols {df_shelf.columns} and lens are {len(df_shelf)}')"
   ]
  },
  {
   "cell_type": "code",
   "execution_count": 2,
   "metadata": {},
   "outputs": [
    {
     "data": {
      "text/html": [
       "<div>\n",
       "<style scoped>\n",
       "    .dataframe tbody tr th:only-of-type {\n",
       "        vertical-align: middle;\n",
       "    }\n",
       "\n",
       "    .dataframe tbody tr th {\n",
       "        vertical-align: top;\n",
       "    }\n",
       "\n",
       "    .dataframe thead th {\n",
       "        text-align: right;\n",
       "    }\n",
       "</style>\n",
       "<table border=\"1\" class=\"dataframe\">\n",
       "  <thead>\n",
       "    <tr style=\"text-align: right;\">\n",
       "      <th></th>\n",
       "      <th>Shelf ID</th>\n",
       "      <th>Person ID</th>\n",
       "      <th>Date</th>\n",
       "      <th>Time</th>\n",
       "      <th>Day</th>\n",
       "      <th>Age</th>\n",
       "      <th>Gender</th>\n",
       "      <th>Height_x</th>\n",
       "      <th>Weight</th>\n",
       "      <th>Married status</th>\n",
       "      <th>...</th>\n",
       "      <th>Price</th>\n",
       "      <th>Marketing strategy</th>\n",
       "      <th>Discount</th>\n",
       "      <th>Rate</th>\n",
       "      <th>Description</th>\n",
       "      <th>Width</th>\n",
       "      <th>Height_y</th>\n",
       "      <th>Length</th>\n",
       "      <th>Number of items</th>\n",
       "      <th>Shape</th>\n",
       "    </tr>\n",
       "  </thead>\n",
       "  <tbody>\n",
       "    <tr>\n",
       "      <th>0</th>\n",
       "      <td>4</td>\n",
       "      <td>1</td>\n",
       "      <td>2024-07-06</td>\n",
       "      <td>10:00:00</td>\n",
       "      <td>Saturday</td>\n",
       "      <td>52</td>\n",
       "      <td>Female</td>\n",
       "      <td>162</td>\n",
       "      <td>41</td>\n",
       "      <td>Married</td>\n",
       "      <td>...</td>\n",
       "      <td>28,500 ₫</td>\n",
       "      <td>False</td>\n",
       "      <td>10</td>\n",
       "      <td>3</td>\n",
       "      <td>Quầy gia vị</td>\n",
       "      <td>500</td>\n",
       "      <td>180</td>\n",
       "      <td>100</td>\n",
       "      <td>19</td>\n",
       "      <td>Kệ hàng</td>\n",
       "    </tr>\n",
       "    <tr>\n",
       "      <th>1</th>\n",
       "      <td>4</td>\n",
       "      <td>23</td>\n",
       "      <td>2024-07-06</td>\n",
       "      <td>13:12:00</td>\n",
       "      <td>Saturday</td>\n",
       "      <td>65</td>\n",
       "      <td>Male</td>\n",
       "      <td>171</td>\n",
       "      <td>69</td>\n",
       "      <td>Married</td>\n",
       "      <td>...</td>\n",
       "      <td>28,500 ₫</td>\n",
       "      <td>False</td>\n",
       "      <td>10</td>\n",
       "      <td>3</td>\n",
       "      <td>Quầy gia vị</td>\n",
       "      <td>500</td>\n",
       "      <td>180</td>\n",
       "      <td>100</td>\n",
       "      <td>19</td>\n",
       "      <td>Kệ hàng</td>\n",
       "    </tr>\n",
       "    <tr>\n",
       "      <th>2</th>\n",
       "      <td>4</td>\n",
       "      <td>35</td>\n",
       "      <td>2024-07-06</td>\n",
       "      <td>15:47:00</td>\n",
       "      <td>Saturday</td>\n",
       "      <td>70</td>\n",
       "      <td>Male</td>\n",
       "      <td>171</td>\n",
       "      <td>78</td>\n",
       "      <td>Married</td>\n",
       "      <td>...</td>\n",
       "      <td>28,500 ₫</td>\n",
       "      <td>False</td>\n",
       "      <td>10</td>\n",
       "      <td>3</td>\n",
       "      <td>Quầy gia vị</td>\n",
       "      <td>500</td>\n",
       "      <td>180</td>\n",
       "      <td>100</td>\n",
       "      <td>19</td>\n",
       "      <td>Kệ hàng</td>\n",
       "    </tr>\n",
       "    <tr>\n",
       "      <th>3</th>\n",
       "      <td>4</td>\n",
       "      <td>39</td>\n",
       "      <td>2024-07-06</td>\n",
       "      <td>16:10:00</td>\n",
       "      <td>Saturday</td>\n",
       "      <td>51</td>\n",
       "      <td>Female</td>\n",
       "      <td>147</td>\n",
       "      <td>45</td>\n",
       "      <td>Married</td>\n",
       "      <td>...</td>\n",
       "      <td>28,500 ₫</td>\n",
       "      <td>False</td>\n",
       "      <td>10</td>\n",
       "      <td>3</td>\n",
       "      <td>Quầy gia vị</td>\n",
       "      <td>500</td>\n",
       "      <td>180</td>\n",
       "      <td>100</td>\n",
       "      <td>19</td>\n",
       "      <td>Kệ hàng</td>\n",
       "    </tr>\n",
       "    <tr>\n",
       "      <th>4</th>\n",
       "      <td>4</td>\n",
       "      <td>114</td>\n",
       "      <td>2024-07-06</td>\n",
       "      <td>0:30:00</td>\n",
       "      <td>Saturday</td>\n",
       "      <td>46</td>\n",
       "      <td>Male</td>\n",
       "      <td>169</td>\n",
       "      <td>75</td>\n",
       "      <td>Married</td>\n",
       "      <td>...</td>\n",
       "      <td>28,500 ₫</td>\n",
       "      <td>False</td>\n",
       "      <td>10</td>\n",
       "      <td>3</td>\n",
       "      <td>Quầy gia vị</td>\n",
       "      <td>500</td>\n",
       "      <td>180</td>\n",
       "      <td>100</td>\n",
       "      <td>19</td>\n",
       "      <td>Kệ hàng</td>\n",
       "    </tr>\n",
       "    <tr>\n",
       "      <th>...</th>\n",
       "      <td>...</td>\n",
       "      <td>...</td>\n",
       "      <td>...</td>\n",
       "      <td>...</td>\n",
       "      <td>...</td>\n",
       "      <td>...</td>\n",
       "      <td>...</td>\n",
       "      <td>...</td>\n",
       "      <td>...</td>\n",
       "      <td>...</td>\n",
       "      <td>...</td>\n",
       "      <td>...</td>\n",
       "      <td>...</td>\n",
       "      <td>...</td>\n",
       "      <td>...</td>\n",
       "      <td>...</td>\n",
       "      <td>...</td>\n",
       "      <td>...</td>\n",
       "      <td>...</td>\n",
       "      <td>...</td>\n",
       "      <td>...</td>\n",
       "    </tr>\n",
       "    <tr>\n",
       "      <th>15389</th>\n",
       "      <td>6</td>\n",
       "      <td>1367</td>\n",
       "      <td>2024-07-05</td>\n",
       "      <td>12:53:00</td>\n",
       "      <td>Friday</td>\n",
       "      <td>34</td>\n",
       "      <td>Male</td>\n",
       "      <td>169</td>\n",
       "      <td>59</td>\n",
       "      <td>Single</td>\n",
       "      <td>...</td>\n",
       "      <td>300,000 ₫</td>\n",
       "      <td>False</td>\n",
       "      <td>0</td>\n",
       "      <td>3</td>\n",
       "      <td>Quầy sách và đồ chơi</td>\n",
       "      <td>100</td>\n",
       "      <td>180</td>\n",
       "      <td>600</td>\n",
       "      <td>16</td>\n",
       "      <td>Kệ hàng</td>\n",
       "    </tr>\n",
       "    <tr>\n",
       "      <th>15390</th>\n",
       "      <td>6</td>\n",
       "      <td>1417</td>\n",
       "      <td>2024-07-05</td>\n",
       "      <td>18:35:00</td>\n",
       "      <td>Friday</td>\n",
       "      <td>30</td>\n",
       "      <td>Female</td>\n",
       "      <td>166</td>\n",
       "      <td>46</td>\n",
       "      <td>Single</td>\n",
       "      <td>...</td>\n",
       "      <td>300,000 ₫</td>\n",
       "      <td>False</td>\n",
       "      <td>0</td>\n",
       "      <td>3</td>\n",
       "      <td>Quầy sách và đồ chơi</td>\n",
       "      <td>100</td>\n",
       "      <td>180</td>\n",
       "      <td>600</td>\n",
       "      <td>16</td>\n",
       "      <td>Kệ hàng</td>\n",
       "    </tr>\n",
       "    <tr>\n",
       "      <th>15391</th>\n",
       "      <td>6</td>\n",
       "      <td>1455</td>\n",
       "      <td>2024-07-05</td>\n",
       "      <td>23:02:00</td>\n",
       "      <td>Friday</td>\n",
       "      <td>49</td>\n",
       "      <td>Male</td>\n",
       "      <td>175</td>\n",
       "      <td>66</td>\n",
       "      <td>Single</td>\n",
       "      <td>...</td>\n",
       "      <td>300,000 ₫</td>\n",
       "      <td>False</td>\n",
       "      <td>0</td>\n",
       "      <td>3</td>\n",
       "      <td>Quầy sách và đồ chơi</td>\n",
       "      <td>100</td>\n",
       "      <td>180</td>\n",
       "      <td>600</td>\n",
       "      <td>16</td>\n",
       "      <td>Kệ hàng</td>\n",
       "    </tr>\n",
       "    <tr>\n",
       "      <th>15392</th>\n",
       "      <td>6</td>\n",
       "      <td>1460</td>\n",
       "      <td>2024-07-05</td>\n",
       "      <td>0:02:00</td>\n",
       "      <td>Friday</td>\n",
       "      <td>23</td>\n",
       "      <td>Male</td>\n",
       "      <td>175</td>\n",
       "      <td>68</td>\n",
       "      <td>Single</td>\n",
       "      <td>...</td>\n",
       "      <td>300,000 ₫</td>\n",
       "      <td>False</td>\n",
       "      <td>0</td>\n",
       "      <td>3</td>\n",
       "      <td>Quầy sách và đồ chơi</td>\n",
       "      <td>100</td>\n",
       "      <td>180</td>\n",
       "      <td>600</td>\n",
       "      <td>16</td>\n",
       "      <td>Kệ hàng</td>\n",
       "    </tr>\n",
       "    <tr>\n",
       "      <th>15393</th>\n",
       "      <td>6</td>\n",
       "      <td>1473</td>\n",
       "      <td>2024-07-05</td>\n",
       "      <td>1:18:00</td>\n",
       "      <td>Friday</td>\n",
       "      <td>29</td>\n",
       "      <td>Male</td>\n",
       "      <td>177</td>\n",
       "      <td>77</td>\n",
       "      <td>Single</td>\n",
       "      <td>...</td>\n",
       "      <td>300,000 ₫</td>\n",
       "      <td>False</td>\n",
       "      <td>0</td>\n",
       "      <td>3</td>\n",
       "      <td>Quầy sách và đồ chơi</td>\n",
       "      <td>100</td>\n",
       "      <td>180</td>\n",
       "      <td>600</td>\n",
       "      <td>16</td>\n",
       "      <td>Kệ hàng</td>\n",
       "    </tr>\n",
       "  </tbody>\n",
       "</table>\n",
       "<p>15394 rows × 31 columns</p>\n",
       "</div>"
      ],
      "text/plain": [
       "       Shelf ID  Person ID        Date      Time       Day  Age  Gender  \\\n",
       "0             4          1  2024-07-06  10:00:00  Saturday   52  Female   \n",
       "1             4         23  2024-07-06  13:12:00  Saturday   65    Male   \n",
       "2             4         35  2024-07-06  15:47:00  Saturday   70    Male   \n",
       "3             4         39  2024-07-06  16:10:00  Saturday   51  Female   \n",
       "4             4        114  2024-07-06   0:30:00  Saturday   46    Male   \n",
       "...         ...        ...         ...       ...       ...  ...     ...   \n",
       "15389         6       1367  2024-07-05  12:53:00    Friday   34    Male   \n",
       "15390         6       1417  2024-07-05  18:35:00    Friday   30  Female   \n",
       "15391         6       1455  2024-07-05  23:02:00    Friday   49    Male   \n",
       "15392         6       1460  2024-07-05   0:02:00    Friday   23    Male   \n",
       "15393         6       1473  2024-07-05   1:18:00    Friday   29    Male   \n",
       "\n",
       "       Height_x  Weight Married status  ...      Price  Marketing strategy  \\\n",
       "0           162      41        Married  ...   28,500 ₫               False   \n",
       "1           171      69        Married  ...   28,500 ₫               False   \n",
       "2           171      78        Married  ...   28,500 ₫               False   \n",
       "3           147      45        Married  ...   28,500 ₫               False   \n",
       "4           169      75        Married  ...   28,500 ₫               False   \n",
       "...         ...     ...            ...  ...        ...                 ...   \n",
       "15389       169      59         Single  ...  300,000 ₫               False   \n",
       "15390       166      46         Single  ...  300,000 ₫               False   \n",
       "15391       175      66         Single  ...  300,000 ₫               False   \n",
       "15392       175      68         Single  ...  300,000 ₫               False   \n",
       "15393       177      77         Single  ...  300,000 ₫               False   \n",
       "\n",
       "       Discount   Rate           Description  Width Height_y Length  \\\n",
       "0             10     3           Quầy gia vị    500      180    100   \n",
       "1             10     3           Quầy gia vị    500      180    100   \n",
       "2             10     3           Quầy gia vị    500      180    100   \n",
       "3             10     3           Quầy gia vị    500      180    100   \n",
       "4             10     3           Quầy gia vị    500      180    100   \n",
       "...          ...   ...                   ...    ...      ...    ...   \n",
       "15389          0     3  Quầy sách và đồ chơi    100      180    600   \n",
       "15390          0     3  Quầy sách và đồ chơi    100      180    600   \n",
       "15391          0     3  Quầy sách và đồ chơi    100      180    600   \n",
       "15392          0     3  Quầy sách và đồ chơi    100      180    600   \n",
       "15393          0     3  Quầy sách và đồ chơi    100      180    600   \n",
       "\n",
       "      Number of items    Shape  \n",
       "0                  19  Kệ hàng  \n",
       "1                  19  Kệ hàng  \n",
       "2                  19  Kệ hàng  \n",
       "3                  19  Kệ hàng  \n",
       "4                  19  Kệ hàng  \n",
       "...               ...      ...  \n",
       "15389              16  Kệ hàng  \n",
       "15390              16  Kệ hàng  \n",
       "15391              16  Kệ hàng  \n",
       "15392              16  Kệ hàng  \n",
       "15393              16  Kệ hàng  \n",
       "\n",
       "[15394 rows x 31 columns]"
      ]
     },
     "execution_count": 2,
     "metadata": {},
     "output_type": "execute_result"
    }
   ],
   "source": [
    "df_temp = pd.merge(df_customer, df_item, on=['Shelf ID','Item ID'], how='inner')\n",
    "df_full = pd.merge(df_temp, df_shelf, on=['Shelf ID'], how='inner')\n",
    "df_full"
   ]
  },
  {
   "cell_type": "code",
   "execution_count": 3,
   "metadata": {},
   "outputs": [],
   "source": [
    "df_full['Price'] = df_full['Price'].str.replace('₫', '', regex=False)  # Remove the currency symbol\n",
    "df_full['Price'] = df_full['Price'].str.replace(',', '', regex=False)  # Remove commas\n",
    "df_full['Price'] = df_full['Price'].astype(float)"
   ]
  },
  {
   "cell_type": "code",
   "execution_count": 4,
   "metadata": {},
   "outputs": [
    {
     "name": "stdout",
     "output_type": "stream",
     "text": [
      "0\n"
     ]
    }
   ],
   "source": [
    "print(len(df_full.groupby('Name').filter(lambda x: x['Item ID'].nunique() > 1)))"
   ]
  },
  {
   "cell_type": "code",
   "execution_count": 5,
   "metadata": {},
   "outputs": [
    {
     "name": "stdout",
     "output_type": "stream",
     "text": [
      "Index(['Shelf ID', 'Person ID', 'Date', 'Time', 'Day', 'Age', 'Gender',\n",
      "       'Height_x', 'Weight', 'Married status', 'Item ID',\n",
      "       'Looking at item (s)', 'Holding the item (s)', 'Holding the bag',\n",
      "       'Picking up item', 'Returning item', 'Putting item into bag',\n",
      "       'Taking item out of bag', 'Putting item into bag in the 2nd time',\n",
      "       'Name', 'Origin', 'Price', 'Marketing strategy', 'Discount ', 'Rate',\n",
      "       'Description', 'Width', 'Height_y', 'Length', 'Number of items',\n",
      "       'Shape'],\n",
      "      dtype='object')\n"
     ]
    }
   ],
   "source": [
    "print(df_full.columns)"
   ]
  },
  {
   "cell_type": "code",
   "execution_count": 6,
   "metadata": {},
   "outputs": [
    {
     "data": {
      "text/plain": [
       "Index(['Shelf ID', 'Person ID', 'Date', 'Time', 'Day', 'Age', 'Gender',\n",
       "       'Height', 'Weight', 'Married status', 'Item ID', 'Looking at item (s)',\n",
       "       'Holding the item (s)', 'Holding the bag', 'Picking up item',\n",
       "       'Returning item', 'Putting item into bag', 'Taking item out of bag',\n",
       "       'Putting item into bag in the 2nd time', 'Name', 'Origin', 'Price',\n",
       "       'Marketing strategy', 'Discount ', 'Rate'],\n",
       "      dtype='object')"
      ]
     },
     "execution_count": 6,
     "metadata": {},
     "output_type": "execute_result"
    }
   ],
   "source": [
    "df_temp.columns"
   ]
  },
  {
   "cell_type": "code",
   "execution_count": 7,
   "metadata": {},
   "outputs": [
    {
     "name": "stdout",
     "output_type": "stream",
     "text": [
      "                     Name  Tổng lượt nhìn\n",
      "108   Sữa chua uống Probi           11503\n",
      "109  Sữa chua uống Yakult           11454\n",
      "110           Sữa ông thọ            7712\n",
      "4           Bim bim Oishi            7415\n",
      "77   Snack khoai tây Lays            7051\n"
     ]
    }
   ],
   "source": [
    "#câu hỏi 1: Thống kê 5 mặt hàng với lượng khách hàng nhìn thấy nhiều nhất\n",
    "\n",
    "group_looked = df_full.groupby('Name')['Looking at item (s)'].sum().reset_index(name='Tổng lượt nhìn')\n",
    "top_5_items_looked = group_looked.sort_values(by='Tổng lượt nhìn', ascending=False).head(5)\n",
    "print(top_5_items_looked)"
   ]
  },
  {
   "cell_type": "code",
   "execution_count": 8,
   "metadata": {},
   "outputs": [
    {
     "name": "stdout",
     "output_type": "stream",
     "text": [
      "                     Name  total (s)\n",
      "108   Sữa chua uống Probi      22896\n",
      "109  Sữa chua uống Yakult      22896\n",
      "110           Sữa ông thọ      13939\n",
      "4           Bim bim Oishi      13866\n",
      "77   Snack khoai tây Lays      13362\n"
     ]
    }
   ],
   "source": [
    "#câu hỏi 2: Thống kê 5 mặt hàng có tổng thời gian nhìn và cầm xem lâu nhất\n",
    "df_full['total time (s)']=df_full['Looking at item (s)'] + df_full['Holding the item (s)']\n",
    "grouped = df_full.groupby('Name')['total time (s)'].sum().reset_index(name='total (s)')\n",
    "top_5_items = grouped.sort_values(by='total (s)', ascending=False).head(5)\n",
    "print(top_5_items)"
   ]
  },
  {
   "cell_type": "code",
   "execution_count": 9,
   "metadata": {},
   "outputs": [
    {
     "data": {
      "text/plain": [
       "Name\n",
       "Kem tràng tiền                              159\n",
       "Lốc 4 hộp sữa tươi ít đường TH true MILK    159\n",
       "Sữa bột Milo                                158\n",
       "Bánh trứng Custard                          156\n",
       "Dầu gội Romano                               99\n",
       "dtype: int64"
      ]
     },
     "execution_count": 9,
     "metadata": {},
     "output_type": "execute_result"
    }
   ],
   "source": [
    "#câu hỏi 3: Thống kê 5 mặt hàng được mua nhiều nhất\n",
    "\n",
    "df_full_buy = df_full[(df_full['Putting item into bag']==True)&(df_full['Taking item out of bag']==False)]\n",
    "df_full_buy.groupby(['Name']).size().sort_values(ascending=False).head(5)"
   ]
  },
  {
   "cell_type": "code",
   "execution_count": 10,
   "metadata": {},
   "outputs": [
    {
     "data": {
      "text/plain": [
       "Index(['Shelf ID', 'Person ID', 'Date', 'Time', 'Day', 'Age', 'Gender',\n",
       "       'Height_x', 'Weight', 'Married status', 'Item ID',\n",
       "       'Looking at item (s)', 'Holding the item (s)', 'Holding the bag',\n",
       "       'Picking up item', 'Returning item', 'Putting item into bag',\n",
       "       'Taking item out of bag', 'Putting item into bag in the 2nd time',\n",
       "       'Name', 'Origin', 'Price', 'Marketing strategy', 'Discount ', 'Rate',\n",
       "       'Description', 'Width', 'Height_y', 'Length', 'Number of items',\n",
       "       'Shape', 'total time (s)'],\n",
       "      dtype='object')"
      ]
     },
     "execution_count": 10,
     "metadata": {},
     "output_type": "execute_result"
    }
   ],
   "source": [
    "df_full.columns"
   ]
  },
  {
   "cell_type": "code",
   "execution_count": 11,
   "metadata": {},
   "outputs": [
    {
     "data": {
      "text/plain": [
       "Name\n",
       "4 hộp sữa lúa mạch Milo 180ml    134\n",
       "Snack khoai tây Lays             127\n",
       "Mý ý SG Food                     117\n",
       "Nước lẩu Barona                  116\n",
       "Bánh Chocopie                    114\n",
       "dtype: int64"
      ]
     },
     "execution_count": 11,
     "metadata": {},
     "output_type": "execute_result"
    }
   ],
   "source": [
    "#câu hỏi 4: Thống kê 5 mặt hàng thường được cầm lên rồi trả lại nhiều nhất\n",
    "df_full_filter_q4 = df_full[(df_full['Picking up item'] == True) & (df_full['Returning item'] == True)]\n",
    "df_full_filter_q4.groupby('Name').size().sort_values(ascending=False).head(5)"
   ]
  },
  {
   "cell_type": "code",
   "execution_count": 12,
   "metadata": {},
   "outputs": [],
   "source": [
    "#câu hỏi 5: Các nhóm khách hàng theo độ tuổi (Thiếu niên: 18 - 30; Trung niên: 31 - 60; Cao tuổi: > 60) mua mặt hàng nào nhiều nhất?\n"
   ]
  },
  {
   "cell_type": "code",
   "execution_count": 13,
   "metadata": {},
   "outputs": [
    {
     "data": {
      "text/plain": [
       "Name\n",
       "Bánh trứng Custard    42\n",
       "dtype: int64"
      ]
     },
     "execution_count": 13,
     "metadata": {},
     "output_type": "execute_result"
    }
   ],
   "source": [
    "df_buy_filter_thieunien = df_full_buy[(df_full_buy['Age'] >= 18) & (df_full_buy['Age'] <= 30)].copy()\n",
    "df_buy_filter_thieunien.groupby('Name').size().sort_values(ascending=False).head(1)"
   ]
  },
  {
   "cell_type": "code",
   "execution_count": 14,
   "metadata": {},
   "outputs": [
    {
     "data": {
      "text/plain": [
       "Name\n",
       "Kem tràng tiền    89\n",
       "dtype: int64"
      ]
     },
     "execution_count": 14,
     "metadata": {},
     "output_type": "execute_result"
    }
   ],
   "source": [
    "df_buy_filter_trungnien = df_full_buy[(df_full_buy['Age']>=31) & (df_full_buy['Age']<=60)].copy()\n",
    "df_buy_filter_trungnien.groupby('Name').size().sort_values(ascending=False).head(1)"
   ]
  },
  {
   "cell_type": "code",
   "execution_count": 15,
   "metadata": {},
   "outputs": [
    {
     "data": {
      "text/plain": [
       "Name\n",
       "Sữa bột Milo    49\n",
       "dtype: int64"
      ]
     },
     "execution_count": 15,
     "metadata": {},
     "output_type": "execute_result"
    }
   ],
   "source": [
    "df_buy_filter_caotuoi = df_full_buy[df_full_buy['Age']>60].copy()\n",
    "df_buy_filter_caotuoi.groupby('Name').size().sort_values(ascending=False).head(1)"
   ]
  },
  {
   "cell_type": "code",
   "execution_count": 16,
   "metadata": {},
   "outputs": [],
   "source": [
    "#câu hỏi 6: Ngày nào trong tuần có doanh thu cao nhất?"
   ]
  },
  {
   "cell_type": "code",
   "execution_count": 17,
   "metadata": {},
   "outputs": [
    {
     "data": {
      "text/html": [
       "<div>\n",
       "<style scoped>\n",
       "    .dataframe tbody tr th:only-of-type {\n",
       "        vertical-align: middle;\n",
       "    }\n",
       "\n",
       "    .dataframe tbody tr th {\n",
       "        vertical-align: top;\n",
       "    }\n",
       "\n",
       "    .dataframe thead th {\n",
       "        text-align: right;\n",
       "    }\n",
       "</style>\n",
       "<table border=\"1\" class=\"dataframe\">\n",
       "  <thead>\n",
       "    <tr style=\"text-align: right;\">\n",
       "      <th></th>\n",
       "      <th>Shelf ID</th>\n",
       "      <th>Person ID</th>\n",
       "      <th>Date</th>\n",
       "      <th>Time</th>\n",
       "      <th>Day</th>\n",
       "      <th>Age</th>\n",
       "      <th>Gender</th>\n",
       "      <th>Height_x</th>\n",
       "      <th>Weight</th>\n",
       "      <th>Married status</th>\n",
       "      <th>...</th>\n",
       "      <th>Marketing strategy</th>\n",
       "      <th>Discount</th>\n",
       "      <th>Rate</th>\n",
       "      <th>Description</th>\n",
       "      <th>Width</th>\n",
       "      <th>Height_y</th>\n",
       "      <th>Length</th>\n",
       "      <th>Number of items</th>\n",
       "      <th>Shape</th>\n",
       "      <th>total time (s)</th>\n",
       "    </tr>\n",
       "  </thead>\n",
       "  <tbody>\n",
       "    <tr>\n",
       "      <th>0</th>\n",
       "      <td>4</td>\n",
       "      <td>1</td>\n",
       "      <td>2024-07-06</td>\n",
       "      <td>10:00:00</td>\n",
       "      <td>Saturday</td>\n",
       "      <td>52</td>\n",
       "      <td>Female</td>\n",
       "      <td>162</td>\n",
       "      <td>41</td>\n",
       "      <td>Married</td>\n",
       "      <td>...</td>\n",
       "      <td>False</td>\n",
       "      <td>10</td>\n",
       "      <td>3</td>\n",
       "      <td>Quầy gia vị</td>\n",
       "      <td>500</td>\n",
       "      <td>180</td>\n",
       "      <td>100</td>\n",
       "      <td>19</td>\n",
       "      <td>Kệ hàng</td>\n",
       "      <td>63</td>\n",
       "    </tr>\n",
       "    <tr>\n",
       "      <th>1</th>\n",
       "      <td>4</td>\n",
       "      <td>23</td>\n",
       "      <td>2024-07-06</td>\n",
       "      <td>13:12:00</td>\n",
       "      <td>Saturday</td>\n",
       "      <td>65</td>\n",
       "      <td>Male</td>\n",
       "      <td>171</td>\n",
       "      <td>69</td>\n",
       "      <td>Married</td>\n",
       "      <td>...</td>\n",
       "      <td>False</td>\n",
       "      <td>10</td>\n",
       "      <td>3</td>\n",
       "      <td>Quầy gia vị</td>\n",
       "      <td>500</td>\n",
       "      <td>180</td>\n",
       "      <td>100</td>\n",
       "      <td>19</td>\n",
       "      <td>Kệ hàng</td>\n",
       "      <td>51</td>\n",
       "    </tr>\n",
       "    <tr>\n",
       "      <th>2</th>\n",
       "      <td>4</td>\n",
       "      <td>35</td>\n",
       "      <td>2024-07-06</td>\n",
       "      <td>15:47:00</td>\n",
       "      <td>Saturday</td>\n",
       "      <td>70</td>\n",
       "      <td>Male</td>\n",
       "      <td>171</td>\n",
       "      <td>78</td>\n",
       "      <td>Married</td>\n",
       "      <td>...</td>\n",
       "      <td>False</td>\n",
       "      <td>10</td>\n",
       "      <td>3</td>\n",
       "      <td>Quầy gia vị</td>\n",
       "      <td>500</td>\n",
       "      <td>180</td>\n",
       "      <td>100</td>\n",
       "      <td>19</td>\n",
       "      <td>Kệ hàng</td>\n",
       "      <td>56</td>\n",
       "    </tr>\n",
       "    <tr>\n",
       "      <th>3</th>\n",
       "      <td>4</td>\n",
       "      <td>39</td>\n",
       "      <td>2024-07-06</td>\n",
       "      <td>16:10:00</td>\n",
       "      <td>Saturday</td>\n",
       "      <td>51</td>\n",
       "      <td>Female</td>\n",
       "      <td>147</td>\n",
       "      <td>45</td>\n",
       "      <td>Married</td>\n",
       "      <td>...</td>\n",
       "      <td>False</td>\n",
       "      <td>10</td>\n",
       "      <td>3</td>\n",
       "      <td>Quầy gia vị</td>\n",
       "      <td>500</td>\n",
       "      <td>180</td>\n",
       "      <td>100</td>\n",
       "      <td>19</td>\n",
       "      <td>Kệ hàng</td>\n",
       "      <td>60</td>\n",
       "    </tr>\n",
       "    <tr>\n",
       "      <th>4</th>\n",
       "      <td>4</td>\n",
       "      <td>114</td>\n",
       "      <td>2024-07-06</td>\n",
       "      <td>0:30:00</td>\n",
       "      <td>Saturday</td>\n",
       "      <td>46</td>\n",
       "      <td>Male</td>\n",
       "      <td>169</td>\n",
       "      <td>75</td>\n",
       "      <td>Married</td>\n",
       "      <td>...</td>\n",
       "      <td>False</td>\n",
       "      <td>10</td>\n",
       "      <td>3</td>\n",
       "      <td>Quầy gia vị</td>\n",
       "      <td>500</td>\n",
       "      <td>180</td>\n",
       "      <td>100</td>\n",
       "      <td>19</td>\n",
       "      <td>Kệ hàng</td>\n",
       "      <td>61</td>\n",
       "    </tr>\n",
       "    <tr>\n",
       "      <th>...</th>\n",
       "      <td>...</td>\n",
       "      <td>...</td>\n",
       "      <td>...</td>\n",
       "      <td>...</td>\n",
       "      <td>...</td>\n",
       "      <td>...</td>\n",
       "      <td>...</td>\n",
       "      <td>...</td>\n",
       "      <td>...</td>\n",
       "      <td>...</td>\n",
       "      <td>...</td>\n",
       "      <td>...</td>\n",
       "      <td>...</td>\n",
       "      <td>...</td>\n",
       "      <td>...</td>\n",
       "      <td>...</td>\n",
       "      <td>...</td>\n",
       "      <td>...</td>\n",
       "      <td>...</td>\n",
       "      <td>...</td>\n",
       "      <td>...</td>\n",
       "    </tr>\n",
       "    <tr>\n",
       "      <th>15389</th>\n",
       "      <td>6</td>\n",
       "      <td>1367</td>\n",
       "      <td>2024-07-05</td>\n",
       "      <td>12:53:00</td>\n",
       "      <td>Friday</td>\n",
       "      <td>34</td>\n",
       "      <td>Male</td>\n",
       "      <td>169</td>\n",
       "      <td>59</td>\n",
       "      <td>Single</td>\n",
       "      <td>...</td>\n",
       "      <td>False</td>\n",
       "      <td>0</td>\n",
       "      <td>3</td>\n",
       "      <td>Quầy sách và đồ chơi</td>\n",
       "      <td>100</td>\n",
       "      <td>180</td>\n",
       "      <td>600</td>\n",
       "      <td>16</td>\n",
       "      <td>Kệ hàng</td>\n",
       "      <td>13</td>\n",
       "    </tr>\n",
       "    <tr>\n",
       "      <th>15390</th>\n",
       "      <td>6</td>\n",
       "      <td>1417</td>\n",
       "      <td>2024-07-05</td>\n",
       "      <td>18:35:00</td>\n",
       "      <td>Friday</td>\n",
       "      <td>30</td>\n",
       "      <td>Female</td>\n",
       "      <td>166</td>\n",
       "      <td>46</td>\n",
       "      <td>Single</td>\n",
       "      <td>...</td>\n",
       "      <td>False</td>\n",
       "      <td>0</td>\n",
       "      <td>3</td>\n",
       "      <td>Quầy sách và đồ chơi</td>\n",
       "      <td>100</td>\n",
       "      <td>180</td>\n",
       "      <td>600</td>\n",
       "      <td>16</td>\n",
       "      <td>Kệ hàng</td>\n",
       "      <td>38</td>\n",
       "    </tr>\n",
       "    <tr>\n",
       "      <th>15391</th>\n",
       "      <td>6</td>\n",
       "      <td>1455</td>\n",
       "      <td>2024-07-05</td>\n",
       "      <td>23:02:00</td>\n",
       "      <td>Friday</td>\n",
       "      <td>49</td>\n",
       "      <td>Male</td>\n",
       "      <td>175</td>\n",
       "      <td>66</td>\n",
       "      <td>Single</td>\n",
       "      <td>...</td>\n",
       "      <td>False</td>\n",
       "      <td>0</td>\n",
       "      <td>3</td>\n",
       "      <td>Quầy sách và đồ chơi</td>\n",
       "      <td>100</td>\n",
       "      <td>180</td>\n",
       "      <td>600</td>\n",
       "      <td>16</td>\n",
       "      <td>Kệ hàng</td>\n",
       "      <td>23</td>\n",
       "    </tr>\n",
       "    <tr>\n",
       "      <th>15392</th>\n",
       "      <td>6</td>\n",
       "      <td>1460</td>\n",
       "      <td>2024-07-05</td>\n",
       "      <td>0:02:00</td>\n",
       "      <td>Friday</td>\n",
       "      <td>23</td>\n",
       "      <td>Male</td>\n",
       "      <td>175</td>\n",
       "      <td>68</td>\n",
       "      <td>Single</td>\n",
       "      <td>...</td>\n",
       "      <td>False</td>\n",
       "      <td>0</td>\n",
       "      <td>3</td>\n",
       "      <td>Quầy sách và đồ chơi</td>\n",
       "      <td>100</td>\n",
       "      <td>180</td>\n",
       "      <td>600</td>\n",
       "      <td>16</td>\n",
       "      <td>Kệ hàng</td>\n",
       "      <td>10</td>\n",
       "    </tr>\n",
       "    <tr>\n",
       "      <th>15393</th>\n",
       "      <td>6</td>\n",
       "      <td>1473</td>\n",
       "      <td>2024-07-05</td>\n",
       "      <td>1:18:00</td>\n",
       "      <td>Friday</td>\n",
       "      <td>29</td>\n",
       "      <td>Male</td>\n",
       "      <td>177</td>\n",
       "      <td>77</td>\n",
       "      <td>Single</td>\n",
       "      <td>...</td>\n",
       "      <td>False</td>\n",
       "      <td>0</td>\n",
       "      <td>3</td>\n",
       "      <td>Quầy sách và đồ chơi</td>\n",
       "      <td>100</td>\n",
       "      <td>180</td>\n",
       "      <td>600</td>\n",
       "      <td>16</td>\n",
       "      <td>Kệ hàng</td>\n",
       "      <td>45</td>\n",
       "    </tr>\n",
       "  </tbody>\n",
       "</table>\n",
       "<p>15394 rows × 32 columns</p>\n",
       "</div>"
      ],
      "text/plain": [
       "       Shelf ID  Person ID        Date      Time       Day  Age  Gender  \\\n",
       "0             4          1  2024-07-06  10:00:00  Saturday   52  Female   \n",
       "1             4         23  2024-07-06  13:12:00  Saturday   65    Male   \n",
       "2             4         35  2024-07-06  15:47:00  Saturday   70    Male   \n",
       "3             4         39  2024-07-06  16:10:00  Saturday   51  Female   \n",
       "4             4        114  2024-07-06   0:30:00  Saturday   46    Male   \n",
       "...         ...        ...         ...       ...       ...  ...     ...   \n",
       "15389         6       1367  2024-07-05  12:53:00    Friday   34    Male   \n",
       "15390         6       1417  2024-07-05  18:35:00    Friday   30  Female   \n",
       "15391         6       1455  2024-07-05  23:02:00    Friday   49    Male   \n",
       "15392         6       1460  2024-07-05   0:02:00    Friday   23    Male   \n",
       "15393         6       1473  2024-07-05   1:18:00    Friday   29    Male   \n",
       "\n",
       "       Height_x  Weight Married status  ...  Marketing strategy  Discount   \\\n",
       "0           162      41        Married  ...               False         10   \n",
       "1           171      69        Married  ...               False         10   \n",
       "2           171      78        Married  ...               False         10   \n",
       "3           147      45        Married  ...               False         10   \n",
       "4           169      75        Married  ...               False         10   \n",
       "...         ...     ...            ...  ...                 ...        ...   \n",
       "15389       169      59         Single  ...               False          0   \n",
       "15390       166      46         Single  ...               False          0   \n",
       "15391       175      66         Single  ...               False          0   \n",
       "15392       175      68         Single  ...               False          0   \n",
       "15393       177      77         Single  ...               False          0   \n",
       "\n",
       "       Rate           Description  Width  Height_y Length Number of items  \\\n",
       "0         3           Quầy gia vị    500       180    100              19   \n",
       "1         3           Quầy gia vị    500       180    100              19   \n",
       "2         3           Quầy gia vị    500       180    100              19   \n",
       "3         3           Quầy gia vị    500       180    100              19   \n",
       "4         3           Quầy gia vị    500       180    100              19   \n",
       "...     ...                   ...    ...       ...    ...             ...   \n",
       "15389     3  Quầy sách và đồ chơi    100       180    600              16   \n",
       "15390     3  Quầy sách và đồ chơi    100       180    600              16   \n",
       "15391     3  Quầy sách và đồ chơi    100       180    600              16   \n",
       "15392     3  Quầy sách và đồ chơi    100       180    600              16   \n",
       "15393     3  Quầy sách và đồ chơi    100       180    600              16   \n",
       "\n",
       "         Shape total time (s)  \n",
       "0      Kệ hàng             63  \n",
       "1      Kệ hàng             51  \n",
       "2      Kệ hàng             56  \n",
       "3      Kệ hàng             60  \n",
       "4      Kệ hàng             61  \n",
       "...        ...            ...  \n",
       "15389  Kệ hàng             13  \n",
       "15390  Kệ hàng             38  \n",
       "15391  Kệ hàng             23  \n",
       "15392  Kệ hàng             10  \n",
       "15393  Kệ hàng             45  \n",
       "\n",
       "[15394 rows x 32 columns]"
      ]
     },
     "execution_count": 17,
     "metadata": {},
     "output_type": "execute_result"
    }
   ],
   "source": [
    "df_full"
   ]
  },
  {
   "cell_type": "code",
   "execution_count": 18,
   "metadata": {},
   "outputs": [
    {
     "data": {
      "text/plain": [
       "Day\n",
       "Saturday     192021600.0\n",
       "Sunday       184134400.0\n",
       "Tuesday       55067600.0\n",
       "Thursday      51941300.0\n",
       "Friday        50958000.0\n",
       "Wednesday     42968200.0\n",
       "Monday        39364600.0\n",
       "Name: Price, dtype: float64"
      ]
     },
     "execution_count": 18,
     "metadata": {},
     "output_type": "execute_result"
    }
   ],
   "source": [
    "df_full_buy.groupby('Day')['Price'].sum().sort_values(ascending=False)\n"
   ]
  },
  {
   "cell_type": "code",
   "execution_count": 19,
   "metadata": {},
   "outputs": [],
   "source": [
    "#câu hỏi 7: Trong 3 nhóm tuổi sau: Thiếu niên (18 - 30),  Trung niên (31 - 60), Cao tuổi: (> 60),  nhóm tuổi nào có số người đi siêu thị nhiều nhất?\n",
    "\n",
    "\n",
    "df_full_filter_thieunien = df_full[(df_full['Age'] >= 18) & (df_full['Age'] <= 30)].copy()\n",
    "df_full_filter_trungnien = df_full[(df_full['Age']>=31) & (df_full['Age']<=60)].copy()\n",
    "df_full_filter_caotuoi = df_full[df_full['Age']>60].copy()\n",
    "\n",
    "\n"
   ]
  },
  {
   "cell_type": "code",
   "execution_count": 20,
   "metadata": {},
   "outputs": [
    {
     "name": "stdout",
     "output_type": "stream",
     "text": [
      "So nguoi di sieu thi cua nhom thieu nien la 339, trung nien la 753, cao tuoi la 408\n"
     ]
    }
   ],
   "source": [
    "print(f\"So nguoi di sieu thi cua nhom thieu nien la {df_full_filter_thieunien['Person ID'].nunique()}, trung nien la {df_full_filter_trungnien['Person ID'].nunique()}, cao tuoi la {df_full_filter_caotuoi['Person ID'].nunique()}\")"
   ]
  },
  {
   "cell_type": "code",
   "execution_count": 21,
   "metadata": {},
   "outputs": [
    {
     "data": {
      "text/plain": [
       "Name\n",
       "Kem tràng tiền        159\n",
       "Sữa bột Milo          158\n",
       "Bánh trứng Custard    156\n",
       "Dầu gội Romano         99\n",
       "Khăn tắm Shine         94\n",
       "dtype: int64"
      ]
     },
     "execution_count": 21,
     "metadata": {},
     "output_type": "execute_result"
    }
   ],
   "source": [
    "#câu hỏi 8: Top 5 các mặt hàng giảm giá được người dùng mua nhiều nhất?\n",
    "df_full_buy[df_full_buy['Discount ']>0].groupby('Name').size().sort_values(ascending=False).head(5)"
   ]
  },
  {
   "cell_type": "code",
   "execution_count": 22,
   "metadata": {},
   "outputs": [
    {
     "name": "stdout",
     "output_type": "stream",
     "text": [
      "   Shelf ID  Tổng lượt cầm xem\n",
      "7         7             100194\n",
      "0         0              74955\n",
      "1         1              58668\n"
     ]
    }
   ],
   "source": [
    "#câu hỏi 9: Top 3 quầy hàng nào có lượt cầm xem nhiều nhất?\n",
    "group_holding = df_full.groupby('Shelf ID')['Holding the item (s)'].sum().reset_index(name='Tổng lượt cầm xem')\n",
    "top_3_sections_holding = group_holding.sort_values(by='Tổng lượt cầm xem', ascending=False).head(3)\n",
    "print(top_3_sections_holding)"
   ]
  },
  {
   "cell_type": "code",
   "execution_count": 23,
   "metadata": {},
   "outputs": [
    {
     "data": {
      "text/plain": [
       "Name\n",
       "Kem tràng tiền    159\n",
       "Khăn mặt Shine     94\n",
       "Khăn tắm Shine     94\n",
       "dtype: int64"
      ]
     },
     "execution_count": 23,
     "metadata": {},
     "output_type": "execute_result"
    }
   ],
   "source": [
    "#câu hỏi 10: Trong số các sản phẩm được đánh giá cao nhất, top 3 sản phẩm nào được mua nhiều nhất?\n",
    "df_full_buy[(df_full_buy['Rate']==5)].groupby('Name').size().sort_values(ascending=False).head(3)"
   ]
  },
  {
   "cell_type": "code",
   "execution_count": 24,
   "metadata": {},
   "outputs": [],
   "source": [
    "#câu hỏi 11: Câu hỏi mở: Tìm ra mặt hàng hay được chú ý nhất của những nhóm khách hàng cụ thể\n",
    "\n",
    "\n"
   ]
  },
  {
   "cell_type": "markdown",
   "metadata": {},
   "source": [
    "Để trả lời câu hỏi trên ta sẽ phân tích bằng cách trả lời sau đây\n",
    "\n",
    "Thế nào là 1 mặt hàng được chú ý ?\n",
    "\n",
    "Để giải quyết em đưa ra cách tính thời gian chú ý như sau\n",
    "\n",
    "Thoi gian chu y = Thoi gian looking + thoi gian holding (Khi chu y 1 san pham nguoi dung se co 2 thao tac hoac la nhin no hoac la cam nam no)\n",
    "\n",
    "Từ đó để tìm sản phẩm được chú ý em đưa ra tiêu chí sau \n",
    "\n",
    "San pham chu y trong 1 giao dịch : Thoi gian chu y > 30s hoac trong giao dich do san pham do duoc 1 nguoi nao do pick up len (nho giai thich vi sao tinh chat nay goi la chu y)\n",
    "\n",
    "Khi đó ta sẽ thống kê những sản phẩm nào thoả mãn tiêu chí trên nhiều lần sẽ được xếp hạng và lọc ra cho từng lứa tuổi khác nhau\n"
   ]
  },
  {
   "cell_type": "code",
   "execution_count": 25,
   "metadata": {},
   "outputs": [
    {
     "name": "stdout",
     "output_type": "stream",
     "text": [
      " Top mat hang thieu nien la ['Sữa bột Anmum Materna', 'Bánh Chocopie', 'Snack khoai tây Lays', 'Kẹo cao su Cool Air Fresh', 'Bánh trứng Custard', 'Bim bim Oishi', 'Lốc 4 hộp sữa tươi ít đường TH true MILK', '4 hộp sữa lúa mạch Milo 180ml', 'Viên thả lẩu cầu tre', 'Nước lẩu Barona']\n",
      " Top mat hang trung nien la ['Sữa ông thọ', 'Snack khoai tây Lays', 'Kem tràng tiền', '4 hộp sữa lúa mạch Milo 180ml', 'Thạch rau câu Đức Hạnh', 'Sữa chua uống Probi', 'Sữa chua Vinamik', 'Thanh cua Akira', 'Hạt hướng dương Chacheer', 'Sữa bột Ensure Gold lúa mạch']\n",
      " Top mat hang cao tuoi la ['Bánh trứng Custard', 'Xúc xích CP', 'Bibigo Mandu', 'Kẹo dẻo Alphelibe', 'Sữa bột Milo', 'Sửa chua TH', 'Bim bim Oishi', 'Hạt hướng dương Chacheer', 'Bánh Chocopie', 'Sữa chua Susu']\n"
     ]
    }
   ],
   "source": [
    "cond_thieunien = (df_full_filter_thieunien['Looking at item (s)'] + df_full_filter_thieunien['Holding the item (s)']  > 30) | (df_full_filter_thieunien['Picking up item']==True)\n",
    "\n",
    "cond_trungnien = (df_full_filter_trungnien['Looking at item (s)'] + df_full_filter_trungnien['Holding the item (s)']  > 30) | (df_full_filter_trungnien['Picking up item']==True)\n",
    "\n",
    "cond_caotuoi = (df_full_filter_caotuoi['Looking at item (s)'] + df_full_filter_caotuoi['Holding the item (s)']  > 30) | (df_full_filter_caotuoi['Picking up item']==True)\n",
    "\n",
    "\n",
    "print(f\" Top mat hang thieu nien la {df_full_filter_thieunien[cond_thieunien].groupby('Name').size().sort_values(ascending=False).head(10).index.tolist()}\")\n",
    "print(f\" Top mat hang trung nien la {df_full_filter_trungnien[cond_trungnien].groupby('Name').size().sort_values(ascending=False).head(10).index.tolist()}\")\n",
    "print(f\" Top mat hang cao tuoi la {df_full_filter_caotuoi[cond_caotuoi].groupby('Name').size().sort_values(ascending=False).head(10).index.tolist()}\")"
   ]
  },
  {
   "cell_type": "code",
   "execution_count": 26,
   "metadata": {},
   "outputs": [],
   "source": [
    "#câu hỏi 12: Câu hỏi mở: Có những mặt hàng nào cần được sắp xếp lại trong cửa hàng không? Tại sao?"
   ]
  },
  {
   "cell_type": "markdown",
   "metadata": {},
   "source": [
    "Để trả lời câu hỏi trên ta sẽ phân tích bằng cách trả lời 2 câu sau đây\n",
    "\n",
    "- Thế nào là mặt hàng cần được sắp xếp lại ?\n",
    "\n",
    "    - Trong ngữ cảnh này, cần sắp xếp lại ko có nghĩa là món hàng đó lộn xộn\n",
    "\n",
    "    - Hiểu đúng hơn là cần sắp xếp vị trí để thu hút đc nhiều người hơn \n",
    "\n",
    "- Tiêu chuẩn nào để chọn ra được mặt hàng được sắp xếp lại ?\n",
    "\n",
    "Dựa vào câu trả lời trên ta có 2 tiêu chuẩn sau \n",
    "\n",
    "    - Tìm nx mặt hàng mà có thời gian chú ý thấp (lấy top 10 thap nhat của tổng thời gian chú ý của tất cả các mặt hàng )\n",
    "\n",
    "\n",
    "    - Tim nx mat hang không hoặc ít được mua (lấy top10 ) (df_buy)\n",
    "\n",
    "Dựa vào 2 tiêu chí đó cách làm cụ thể là:\n",
    "\n",
    "- Những mặt hàng mà có thời gian chú ý thấp: Em lấy top 10 những sản phẩm có tổng thời gian nhìn và cầm ít nhất và quantile 0.05 những sản phẩm có tổng thời gian nhìn và cầm ít nhất, sau khi dùng python kết quả là : (Ghi ra)\n",
    "\n",
    "- Ngoài ra những mặt hàng ít người mua bao gồm (Ghi ra). Đây là những mặt hàng theo em cần cân nhắc loại khỏi cửa hàng để giảm chi phí hoặc để nó cùng với mặt hàng cùng loại đang bán chạy khác\n",
    "    \n"
   ]
  },
  {
   "cell_type": "markdown",
   "metadata": {},
   "source": [
    "Tìm top 10 sản phẩm có thời lượng chú ý ít nhất"
   ]
  },
  {
   "cell_type": "code",
   "execution_count": 27,
   "metadata": {},
   "outputs": [
    {
     "name": "stdout",
     "output_type": "stream",
     "text": [
      "top 10 sản phẩm có thời lượng chú ý ít nhất:\n"
     ]
    },
    {
     "data": {
      "text/plain": [
       "Name\n",
       "Sách cho trẻ từ 1-2 tuổi                                                82\n",
       "Truyện tranh Conan                                                     132\n",
       "Sách cho trẻ sơ sinh đến 6 tháng tuổi                                  255\n",
       "Nui Safoco                                                             265\n",
       "Tã dán sơ sinh Bobby siêu mỏng Newborn 70 miếng (cho bé dưới 5kg)    272\n",
       "Strongbow dâu đen                                                      279\n",
       "Gấu bông Miyu                                                          285\n",
       "Sách Chào con Ba mẹ đã sẵn sàng                                        307\n",
       "Fanta                                                                  352\n",
       "Máy xay sinh tố Comet                                                  356\n",
       "dtype: int64"
      ]
     },
     "execution_count": 27,
     "metadata": {},
     "output_type": "execute_result"
    }
   ],
   "source": [
    "#thời gian chú ý được xác định bằng tổng thời gian người đó cầm sản phẩm đó lên và nhìn vào sản phẩm đó\n",
    "# nếu chỉ xác đinh thời gian chú ý bằng thời gian người đó xem sẽ không thể bao quát được trường hợp nếu người đó lấy sản phẩm mà không nhìn (bằng thói quen)\n",
    "thoi_gian_chu_y=df_full_filter_thieunien['Looking at item (s)'] + df_full_filter_thieunien['Holding the item (s)']\n",
    "print('top 10 sản phẩm có thời lượng chú ý ít nhất:')\n",
    "thoi_gian_chu_y.groupby(df_full['Name']).sum().sort_values(ascending=True).head(10)"
   ]
  },
  {
   "cell_type": "markdown",
   "metadata": {},
   "source": [
    "Tìm các sản phẩm có thời lượng chú ý ít hơn hoặc bằng phân vị 5%"
   ]
  },
  {
   "cell_type": "code",
   "execution_count": 28,
   "metadata": {},
   "outputs": [
    {
     "name": "stdout",
     "output_type": "stream",
     "text": [
      "Các sản phẩm có thời lượng chú ý ít hơn hoặc bằng phân vị 5%:\n",
      "Name\n",
      "Gấu bông Miyu                                                          285\n",
      "Strongbow dâu đen                                                      279\n",
      "Tã dán sơ sinh Bobby siêu mỏng Newborn 70 miếng (cho bé dưới 5kg)    272\n",
      "Nui Safoco                                                             265\n",
      "Sách cho trẻ sơ sinh đến 6 tháng tuổi                                  255\n",
      "Truyện tranh Conan                                                     132\n",
      "Sách cho trẻ từ 1-2 tuổi                                                82\n",
      "dtype: int64\n"
     ]
    }
   ],
   "source": [
    "# Tính tổng thời gian chú ý theo sản phẩm\n",
    "tong_thoi_gian_chu_y_theo_san_pham = thoi_gian_chu_y.groupby(df_full['Name']).sum()\n",
    "\n",
    "# Tìm giá trị tại phân vị 5% (quantile 0.05)\n",
    "nguong_5_percent = tong_thoi_gian_chu_y_theo_san_pham.quantile(0.05)\n",
    "\n",
    "# Lọc ra các sản phẩm có thời lượng chú ý nằm dưới mức 5%\n",
    "san_pham_duoi_nguong_5_percent = tong_thoi_gian_chu_y_theo_san_pham[tong_thoi_gian_chu_y_theo_san_pham <= nguong_5_percent]\n",
    "\n",
    "# In ra danh sách các sản phẩm này\n",
    "print('Các sản phẩm có thời lượng chú ý ít hơn hoặc bằng phân vị 5%:')\n",
    "print(san_pham_duoi_nguong_5_percent.sort_values(ascending=False))"
   ]
  },
  {
   "cell_type": "markdown",
   "metadata": {},
   "source": [
    "Nhận thấy không có sản phẩm nào không được mua\n"
   ]
  },
  {
   "cell_type": "code",
   "execution_count": 29,
   "metadata": {},
   "outputs": [
    {
     "name": "stdout",
     "output_type": "stream",
     "text": [
      "Số lượng sản phẩm không được mua: []\n"
     ]
    }
   ],
   "source": [
    "#Những sản phẩm không được mua được xác định bằng số sản phẩm có trong df_full.Name mà không có trong df_full_buy['Name'] \n",
    "df_full_not_buy = df_full[~df_full['Name'].isin(df_full_buy['Name'])]\n",
    "san_pham_khong_duoc_mua = df_full_not_buy['Name'].unique()\n",
    "print('Số lượng sản phẩm không được mua:', san_pham_khong_duoc_mua)"
   ]
  },
  {
   "cell_type": "markdown",
   "metadata": {},
   "source": [
    "Sản phẩm được mua ít nhất là Ðèn bàn Ðiện Quang với 2 lần"
   ]
  },
  {
   "cell_type": "code",
   "execution_count": 30,
   "metadata": {},
   "outputs": [
    {
     "data": {
      "text/plain": [
       "Name\n",
       "Ðèn bàn Ðiện Quang                       2\n",
       "Nồi cơm điện Kangaroo                    4\n",
       "Phích cắm điện Ðiện Quang                4\n",
       "Sách cho trẻ từ 2-3 tuổi                 4\n",
       "Sách Thám tử Sherlock Home               5\n",
       "Ðậu đỏ                                   5\n",
       "Sách cho trẻ từ 4-5 tuổi                 5\n",
       "Sách Ðạo Tình                            6\n",
       "Sách cho trẻ sơ sinh đến 6 tháng tuổi    6\n",
       "Bếp điện từ Sunhouse                     7\n",
       "dtype: int64"
      ]
     },
     "execution_count": 30,
     "metadata": {},
     "output_type": "execute_result"
    }
   ],
   "source": [
    "#In số lượt mua của từng sản phẩm theo thứ tự từ bé đến lớn\n",
    "df_full_buy.groupby('Name').size().sort_values(ascending=True).head(10)"
   ]
  }
 ],
 "metadata": {
  "kernelspec": {
   "display_name": "Python 3",
   "language": "python",
   "name": "python3"
  },
  "language_info": {
   "codemirror_mode": {
    "name": "ipython",
    "version": 3
   },
   "file_extension": ".py",
   "mimetype": "text/x-python",
   "name": "python",
   "nbconvert_exporter": "python",
   "pygments_lexer": "ipython3",
   "version": "3.11.7"
  }
 },
 "nbformat": 4,
 "nbformat_minor": 2
}
