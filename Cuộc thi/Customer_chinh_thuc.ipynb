{
 "cells": [
  {
   "cell_type": "code",
   "execution_count": 2,
   "metadata": {},
   "outputs": [],
   "source": [
    "# Các bước chuẩn bị data\n",
    "import pandas as pd\n",
    "df_customer=pd.read_csv('03_Customer_Behavior_Data_THPT.csv')\n",
    "df_item=pd.read_csv('03_Item_information_Data_THPT.csv')\n",
    "df_shelf=pd.read_csv('03_Shelf_Information_Data_THPT.csv')\n",
    "df_temp = pd.merge(df_customer, df_item, on=['Shelf ID','Item ID'], how='inner')\n",
    "df_full = pd.merge(df_temp, df_shelf, on=['Shelf ID'], how='inner')\n",
    "df_full['Price'] = df_full['Price'].str.replace('₫', '', regex=False)  # Remove the currency symbol\n",
    "df_full['Price'] = df_full['Price'].str.replace(',', '', regex=False)  # Remove commas\n",
    "df_full['Price'] = df_full['Price'].astype(float)"
   ]
  },
  {
   "cell_type": "code",
   "execution_count": 3,
   "metadata": {},
   "outputs": [
    {
     "name": "stdout",
     "output_type": "stream",
     "text": [
      "0\n"
     ]
    }
   ],
   "source": [
    "#Chắc chắn rằng không có sự trùng lập\n",
    "print(len(df_full.groupby('Name').filter(lambda x: x['Item ID'].nunique() > 1)))"
   ]
  },
  {
   "cell_type": "code",
   "execution_count": 4,
   "metadata": {},
   "outputs": [
    {
     "name": "stdout",
     "output_type": "stream",
     "text": [
      "Index(['Shelf ID', 'Person ID', 'Date', 'Time', 'Day', 'Age', 'Gender',\n",
      "       'Height_x', 'Weight', 'Married status', 'Item ID',\n",
      "       'Looking at item (s)', 'Holding the item (s)', 'Holding the bag',\n",
      "       'Picking up item', 'Returning item', 'Putting item into bag',\n",
      "       'Taking item out of bag', 'Putting item into bag in the 2nd time',\n",
      "       'Name', 'Origin', 'Price', 'Marketing strategy', 'Discount ', 'Rate',\n",
      "       'Description', 'Width', 'Height_y', 'Length', 'Number of items',\n",
      "       'Shape'],\n",
      "      dtype='object')\n"
     ]
    }
   ],
   "source": [
    "#Kiểm tra có bao nhiêu tên cột\n",
    "print(df_full.columns)"
   ]
  },
  {
   "cell_type": "code",
   "execution_count": 5,
   "metadata": {},
   "outputs": [
    {
     "name": "stdout",
     "output_type": "stream",
     "text": [
      "                     Name  Tổng lượt nhìn\n",
      "108   Sữa chua uống Probi           11503\n",
      "109  Sữa chua uống Yakult           11454\n",
      "110           Sữa ông thọ            7712\n",
      "4           Bim bim Oishi            7415\n",
      "77   Snack khoai tây Lays            7051\n"
     ]
    }
   ],
   "source": [
    "#câu hỏi 1: Thống kê 5 mặt hàng với lượng khách hàng nhìn thấy nhiều nhất\n",
    "\n",
    "group_looked = df_full.groupby('Name')['Looking at item (s)'].sum().reset_index(name='Tổng lượt nhìn')\n",
    "top_5_items_looked = group_looked.sort_values(by='Tổng lượt nhìn', ascending=False).head(5)\n",
    "print(top_5_items_looked)"
   ]
  },
  {
   "cell_type": "code",
   "execution_count": 6,
   "metadata": {},
   "outputs": [
    {
     "name": "stdout",
     "output_type": "stream",
     "text": [
      "                     Name  total (s)\n",
      "109  Sữa chua uống Yakult      22896\n",
      "108   Sữa chua uống Probi      22896\n",
      "110           Sữa ông thọ      13939\n",
      "4           Bim bim Oishi      13866\n",
      "77   Snack khoai tây Lays      13362\n"
     ]
    }
   ],
   "source": [
    "#câu hỏi 2: Thống kê 5 mặt hàng có tổng thời gian nhìn và cầm xem lâu nhất\n",
    "df_full['total time (s)']=df_full['Looking at item (s)'] + df_full['Holding the item (s)']\n",
    "grouped = df_full.groupby('Name')['total time (s)'].sum().reset_index(name='total (s)')\n",
    "top_5_items = grouped.sort_values(by='total (s)', ascending=False).head(5)\n",
    "print(top_5_items)"
   ]
  },
  {
   "cell_type": "code",
   "execution_count": 7,
   "metadata": {},
   "outputs": [
    {
     "data": {
      "text/plain": [
       "Name\n",
       "Lốc 4 hộp sữa tươi ít đường TH true MILK    159\n",
       "Kem tràng tiền                              159\n",
       "Sữa bột Milo                                158\n",
       "Bánh trứng Custard                          156\n",
       "Dầu gội Romano                               99\n",
       "dtype: int64"
      ]
     },
     "execution_count": 7,
     "metadata": {},
     "output_type": "execute_result"
    }
   ],
   "source": [
    "#câu hỏi 3: Thống kê 5 mặt hàng được mua nhiều nhất\n",
    "\n",
    "df_full_buy = df_full[(df_full['Putting item into bag']==True)&(df_full['Taking item out of bag']==False)]\n",
    "df_full_buy.groupby(['Name']).size().sort_values(ascending=False).head(5)"
   ]
  },
  {
   "cell_type": "code",
   "execution_count": 8,
   "metadata": {},
   "outputs": [
    {
     "data": {
      "text/plain": [
       "Name\n",
       "4 hộp sữa lúa mạch Milo 180ml    134\n",
       "Snack khoai tây Lays             127\n",
       "Mý ý SG Food                     117\n",
       "Nước lẩu Barona                  116\n",
       "Bánh Chocopie                    114\n",
       "dtype: int64"
      ]
     },
     "execution_count": 8,
     "metadata": {},
     "output_type": "execute_result"
    }
   ],
   "source": [
    "#câu hỏi 4: Thống kê 5 mặt hàng thường được cầm lên rồi trả lại nhiều nhất\n",
    "df_full_filter_q4 = df_full[(df_full['Picking up item'] == True) & (df_full['Returning item'] == True)]\n",
    "df_full_filter_q4.groupby('Name').size().sort_values(ascending=False).head(5)"
   ]
  },
  {
   "cell_type": "code",
   "execution_count": 13,
   "metadata": {},
   "outputs": [],
   "source": [
    "#câu hỏi 5: Các nhóm khách hàng theo độ tuổi (Thiếu niên: 18 - 30; Trung niên: 31 - 60; Cao tuổi: > 60) mua mặt hàng nào nhiều nhất?"
   ]
  },
  {
   "cell_type": "code",
   "execution_count": 14,
   "metadata": {},
   "outputs": [
    {
     "name": "stdout",
     "output_type": "stream",
     "text": [
      "Thiếu niên:\n",
      " Name\n",
      "Bánh trứng Custard    42\n",
      "dtype: int64\n"
     ]
    }
   ],
   "source": [
    "#thiếu niên\n",
    "df_buy_filter_thieunien = df_full_buy[(df_full_buy['Age'] >= 18) & (df_full_buy['Age'] <= 30)].copy()\n",
    "print('Thiếu niên:\\n',df_buy_filter_thieunien.groupby('Name').size().sort_values(ascending=False).head(1))"
   ]
  },
  {
   "cell_type": "code",
   "execution_count": 15,
   "metadata": {},
   "outputs": [
    {
     "name": "stdout",
     "output_type": "stream",
     "text": [
      "Trung niên:\n",
      " Name\n",
      "Kem tràng tiền    89\n",
      "dtype: int64\n"
     ]
    }
   ],
   "source": [
    "#trung niên\n",
    "df_buy_filter_trungnien = df_full_buy[(df_full_buy['Age']>=31) & (df_full_buy['Age']<=60)].copy()\n",
    "print('Trung niên:\\n',df_buy_filter_trungnien.groupby('Name').size().sort_values(ascending=False).head(1))"
   ]
  },
  {
   "cell_type": "code",
   "execution_count": 16,
   "metadata": {},
   "outputs": [
    {
     "name": "stdout",
     "output_type": "stream",
     "text": [
      "Cao tuổi:\n",
      " Name\n",
      "Sữa bột Milo    49\n",
      "dtype: int64\n"
     ]
    }
   ],
   "source": [
    "#cao tuổi\n",
    "df_buy_filter_caotuoi = df_full_buy[df_full_buy['Age']>60].copy()\n",
    "print('Cao tuổi:\\n',df_buy_filter_caotuoi.groupby('Name').size().sort_values(ascending=False).head(1))"
   ]
  },
  {
   "cell_type": "code",
   "execution_count": 16,
   "metadata": {},
   "outputs": [],
   "source": [
    "#câu hỏi 6: Ngày nào trong tuần có doanh thu cao nhất?"
   ]
  },
  {
   "cell_type": "code",
   "execution_count": 18,
   "metadata": {},
   "outputs": [
    {
     "data": {
      "text/plain": [
       "Day\n",
       "Saturday     192021600.0\n",
       "Sunday       184134400.0\n",
       "Tuesday       55067600.0\n",
       "Thursday      51941300.0\n",
       "Friday        50958000.0\n",
       "Wednesday     42968200.0\n",
       "Monday        39364600.0\n",
       "Name: Price, dtype: float64"
      ]
     },
     "execution_count": 18,
     "metadata": {},
     "output_type": "execute_result"
    }
   ],
   "source": [
    "df_full_buy.groupby('Day')['Price'].sum().sort_values(ascending=False)"
   ]
  },
  {
   "cell_type": "code",
   "execution_count": 17,
   "metadata": {},
   "outputs": [
    {
     "name": "stdout",
     "output_type": "stream",
     "text": [
      "So nguoi di sieu thi cua nhom thieu nien la 339, trung nien la 753, cao tuoi la 408\n"
     ]
    }
   ],
   "source": [
    "#câu hỏi 7: Trong 3 nhóm tuổi sau: Thiếu niên (18 - 30),  Trung niên (31 - 60), Cao tuổi: (> 60),  nhóm tuổi nào có số người đi siêu thị nhiều nhất?\n",
    "\n",
    "\n",
    "df_full_filter_thieunien = df_full[(df_full['Age'] >= 18) & (df_full['Age'] <= 30)].copy()\n",
    "df_full_filter_trungnien = df_full[(df_full['Age']>=31) & (df_full['Age']<=60)].copy()\n",
    "df_full_filter_caotuoi = df_full[df_full['Age']>60].copy()\n",
    "\n",
    "print(f\"So nguoi di sieu thi cua nhom thieu nien la {df_full_filter_thieunien['Person ID'].nunique()}, trung nien la {df_full_filter_trungnien['Person ID'].nunique()}, cao tuoi la {df_full_filter_caotuoi['Person ID'].nunique()}\")\n"
   ]
  },
  {
   "cell_type": "code",
   "execution_count": 18,
   "metadata": {},
   "outputs": [
    {
     "data": {
      "text/plain": [
       "Name\n",
       "Kem tràng tiền        159\n",
       "Sữa bột Milo          158\n",
       "Bánh trứng Custard    156\n",
       "Dầu gội Romano         99\n",
       "Khăn tắm Shine         94\n",
       "dtype: int64"
      ]
     },
     "execution_count": 18,
     "metadata": {},
     "output_type": "execute_result"
    }
   ],
   "source": [
    "#câu hỏi 8: Top 5 các mặt hàng giảm giá được người dùng mua nhiều nhất?\n",
    "df_full_buy[df_full_buy['Discount ']>0].groupby('Name').size().sort_values(ascending=False).head(5)"
   ]
  },
  {
   "cell_type": "code",
   "execution_count": 19,
   "metadata": {},
   "outputs": [
    {
     "name": "stdout",
     "output_type": "stream",
     "text": [
      "   Shelf ID  Tổng lượt cầm xem\n",
      "7         7             100194\n",
      "0         0              74955\n",
      "1         1              58668\n"
     ]
    }
   ],
   "source": [
    "#câu hỏi 9: Top 3 quầy hàng nào có lượt cầm xem nhiều nhất?\n",
    "group_holding = df_full.groupby('Shelf ID')['Holding the item (s)'].sum().reset_index(name='Tổng lượt cầm xem')\n",
    "top_3_sections_holding = group_holding.sort_values(by='Tổng lượt cầm xem', ascending=False).head(3)\n",
    "print(top_3_sections_holding)"
   ]
  },
  {
   "cell_type": "code",
   "execution_count": 20,
   "metadata": {},
   "outputs": [
    {
     "data": {
      "text/plain": [
       "Name\n",
       "Kem tràng tiền    159\n",
       "Khăn mặt Shine     94\n",
       "Khăn tắm Shine     94\n",
       "dtype: int64"
      ]
     },
     "execution_count": 20,
     "metadata": {},
     "output_type": "execute_result"
    }
   ],
   "source": [
    "#câu hỏi 10: Trong số các sản phẩm được đánh giá cao nhất, top 3 sản phẩm nào được mua nhiều nhất?\n",
    "df_full_buy[(df_full_buy['Rate']==5)].groupby('Name').size().sort_values(ascending=False).head(3)"
   ]
  },
  {
   "cell_type": "code",
   "execution_count": 21,
   "metadata": {},
   "outputs": [],
   "source": [
    "#câu hỏi 11: Câu hỏi mở: Tìm ra mặt hàng hay được chú ý nhất của những nhóm khách hàng cụ thể"
   ]
  },
  {
   "cell_type": "markdown",
   "metadata": {},
   "source": [
    "Để trả lời câu hỏi trên ta sẽ phân tích bằng cách trả lời sau đây\n",
    "\n",
    "Thế nào là 1 mặt hàng được chú ý ?\n",
    "\n",
    "Để giải quyết em đưa ra cách tính thời gian chú ý như sau\n",
    "\n",
    "Thoi gian chu y = Thoi gian looking + thoi gian holding (Khi chu y 1 san pham nguoi dung se co 2 thao tac hoac la nhin no hoac la cam nam no)\n",
    "\n",
    "Từ đó để tìm sản phẩm được chú ý em đưa ra tiêu chí sau \n",
    "\n",
    "San pham chu y trong 1 giao dịch : Thoi gian chu y > 30s hoac trong giao dich do san pham do duoc 1 nguoi nao do pick up len (nho giai thich vi sao tinh chat nay goi la chu y)\n",
    "\n",
    "Khi đó ta sẽ thống kê những sản phẩm nào thoả mãn tiêu chí trên nhiều lần sẽ được xếp hạng và lọc ra cho từng lứa tuổi khác nhau\n"
   ]
  },
  {
   "cell_type": "code",
   "execution_count": 22,
   "metadata": {},
   "outputs": [
    {
     "name": "stdout",
     "output_type": "stream",
     "text": [
      " Top mat hang thieu nien la ['Sữa bột Anmum Materna', 'Bánh Chocopie', 'Snack khoai tây Lays', 'Kẹo cao su Cool Air Fresh', 'Bim bim Oishi', 'Bánh trứng Custard', '4 hộp sữa lúa mạch Milo 180ml', 'Lốc 4 hộp sữa tươi ít đường TH true MILK', 'Nước lẩu Barona', 'Viên thả lẩu cầu tre']\n",
      " Top mat hang trung nien la ['Snack khoai tây Lays', 'Sữa ông thọ', 'Thạch rau câu Đức Hạnh', 'Kem tràng tiền', '4 hộp sữa lúa mạch Milo 180ml', 'Sữa chua uống Probi', 'Sữa chua Vinamik', 'Thanh cua Akira', 'Hạt hướng dương Chacheer', 'Sữa bột Ensure Gold lúa mạch']\n",
      " Top mat hang cao tuoi la ['Bánh trứng Custard', 'Xúc xích CP', 'Kẹo dẻo Alphelibe', 'Sữa bột Milo', 'Bibigo Mandu', 'Bim bim Oishi', 'Hạt hướng dương Chacheer', 'Sửa chua TH', 'Sữa chua Susu', 'Bánh Chocopie']\n"
     ]
    }
   ],
   "source": [
    "cond_thieunien = (df_full_filter_thieunien['Looking at item (s)'] + df_full_filter_thieunien['Holding the item (s)']  > 30) | (df_full_filter_thieunien['Picking up item']==True)\n",
    "\n",
    "cond_trungnien = (df_full_filter_trungnien['Looking at item (s)'] + df_full_filter_trungnien['Holding the item (s)']  > 30) | (df_full_filter_trungnien['Picking up item']==True)\n",
    "\n",
    "cond_caotuoi = (df_full_filter_caotuoi['Looking at item (s)'] + df_full_filter_caotuoi['Holding the item (s)']  > 30) | (df_full_filter_caotuoi['Picking up item']==True)\n",
    "\n",
    "\n",
    "print(f\" Top mat hang thieu nien la {df_full_filter_thieunien[cond_thieunien].groupby('Name').size().sort_values(ascending=False).head(10).index.tolist()}\")\n",
    "print(f\" Top mat hang trung nien la {df_full_filter_trungnien[cond_trungnien].groupby('Name').size().sort_values(ascending=False).head(10).index.tolist()}\")\n",
    "print(f\" Top mat hang cao tuoi la {df_full_filter_caotuoi[cond_caotuoi].groupby('Name').size().sort_values(ascending=False).head(10).index.tolist()}\")"
   ]
  },
  {
   "cell_type": "code",
   "execution_count": 23,
   "metadata": {},
   "outputs": [],
   "source": [
    "#câu hỏi 12: Câu hỏi mở: Có những mặt hàng nào cần được sắp xếp lại trong cửa hàng không? Tại sao?"
   ]
  },
  {
   "cell_type": "markdown",
   "metadata": {},
   "source": [
    "Để trả lời câu hỏi trên ta sẽ phân tích bằng cách trả lời 2 câu sau đây\n",
    "\n",
    "- Thế nào là mặt hàng cần được sắp xếp lại ?\n",
    "\n",
    "    - Trong ngữ cảnh này, cần sắp xếp lại ko có nghĩa là món hàng đó lộn xộn\n",
    "\n",
    "    - Hiểu đúng hơn là cần sắp xếp vị trí để thu hút đc nhiều người hơn \n",
    "\n",
    "- Tiêu chuẩn nào để chọn ra được mặt hàng được sắp xếp lại ?\n",
    "\n",
    "Dựa vào câu trả lời trên ta có 2 tiêu chuẩn sau \n",
    "\n",
    "    - Tìm nx mặt hàng mà có thời gian chú ý thấp (lấy top 10 thap nhat của tổng thời gian chú ý của tất cả các mặt hàng )\n",
    "\n",
    "\n",
    "    - Tim nx mat hang không hoặc ít được mua (lấy top10 ) (df_buy)\n",
    "\n",
    "Dựa vào 2 tiêu chí đó cách làm cụ thể là:\n",
    "\n",
    "- Những mặt hàng mà có thời gian chú ý thấp: Em lấy top 10 những sản phẩm có tổng thời gian nhìn và cầm ít nhất và quantile 0.05 những sản phẩm có tổng thời gian nhìn và cầm ít nhất, sau khi dùng python kết quả là : (Ghi ra)\n",
    "\n",
    "- Ngoài ra những mặt hàng ít người mua bao gồm (Ghi ra). Đây là những mặt hàng theo em cần cân nhắc loại khỏi cửa hàng để giảm chi phí hoặc để nó cùng với mặt hàng cùng loại đang bán chạy khác\n",
    "    \n"
   ]
  },
  {
   "cell_type": "markdown",
   "metadata": {},
   "source": [
    "Tìm top 10 sản phẩm có thời lượng chú ý ít nhất"
   ]
  },
  {
   "cell_type": "code",
   "execution_count": 24,
   "metadata": {},
   "outputs": [
    {
     "name": "stdout",
     "output_type": "stream",
     "text": [
      "top 10 sản phẩm có thời lượng chú ý ít nhất:\n"
     ]
    },
    {
     "data": {
      "text/plain": [
       "Name\n",
       "Sách cho trẻ từ 1-2 tuổi                                                82\n",
       "Truyện tranh Conan                                                     132\n",
       "Sách cho trẻ sơ sinh đến 6 tháng tuổi                                  255\n",
       "Nui Safoco                                                             265\n",
       "Tã dán sơ sinh Bobby siêu mỏng Newborn 70 miếng (cho bé dưới 5kg)    272\n",
       "Strongbow dâu đen                                                      279\n",
       "Gấu bông Miyu                                                          285\n",
       "Sách Chào con Ba mẹ đã sẵn sàng                                        307\n",
       "Fanta                                                                  352\n",
       "Máy xay sinh tố Comet                                                  356\n",
       "dtype: int64"
      ]
     },
     "execution_count": 24,
     "metadata": {},
     "output_type": "execute_result"
    }
   ],
   "source": [
    "#thời gian chú ý được xác định bằng tổng thời gian người đó cầm sản phẩm đó lên và nhìn vào sản phẩm đó\n",
    "# nếu chỉ xác đinh thời gian chú ý bằng thời gian người đó xem sẽ không thể bao quát được trường hợp nếu người đó lấy sản phẩm mà không nhìn (bằng thói quen)\n",
    "thoi_gian_chu_y=df_full_filter_thieunien['Looking at item (s)'] + df_full_filter_thieunien['Holding the item (s)']\n",
    "print('top 10 sản phẩm có thời lượng chú ý ít nhất:')\n",
    "thoi_gian_chu_y.groupby(df_full['Name']).sum().sort_values(ascending=True).head(10)"
   ]
  },
  {
   "cell_type": "markdown",
   "metadata": {},
   "source": [
    "Tìm các sản phẩm có thời lượng chú ý ít hơn hoặc bằng phân vị 5%"
   ]
  },
  {
   "cell_type": "code",
   "execution_count": 25,
   "metadata": {},
   "outputs": [
    {
     "name": "stdout",
     "output_type": "stream",
     "text": [
      "Các sản phẩm có thời lượng chú ý ít hơn hoặc bằng phân vị 5%:\n",
      "Name\n",
      "Gấu bông Miyu                                                          285\n",
      "Strongbow dâu đen                                                      279\n",
      "Tã dán sơ sinh Bobby siêu mỏng Newborn 70 miếng (cho bé dưới 5kg)    272\n",
      "Nui Safoco                                                             265\n",
      "Sách cho trẻ sơ sinh đến 6 tháng tuổi                                  255\n",
      "Truyện tranh Conan                                                     132\n",
      "Sách cho trẻ từ 1-2 tuổi                                                82\n",
      "dtype: int64\n"
     ]
    }
   ],
   "source": [
    "# Tính tổng thời gian chú ý theo sản phẩm\n",
    "tong_thoi_gian_chu_y_theo_san_pham = thoi_gian_chu_y.groupby(df_full['Name']).sum()\n",
    "\n",
    "# Tìm giá trị tại phân vị 5% (quantile 0.05)\n",
    "nguong_5_percent = tong_thoi_gian_chu_y_theo_san_pham.quantile(0.05)\n",
    "\n",
    "# Lọc ra các sản phẩm có thời lượng chú ý nằm dưới mức 5%\n",
    "san_pham_duoi_nguong_5_percent = tong_thoi_gian_chu_y_theo_san_pham[tong_thoi_gian_chu_y_theo_san_pham <= nguong_5_percent]\n",
    "\n",
    "# In ra danh sách các sản phẩm này\n",
    "print('Các sản phẩm có thời lượng chú ý ít hơn hoặc bằng phân vị 5%:')\n",
    "print(san_pham_duoi_nguong_5_percent.sort_values(ascending=False))"
   ]
  },
  {
   "cell_type": "markdown",
   "metadata": {},
   "source": [
    "Nhận thấy không có sản phẩm nào không được mua\n"
   ]
  },
  {
   "cell_type": "code",
   "execution_count": 26,
   "metadata": {},
   "outputs": [
    {
     "name": "stdout",
     "output_type": "stream",
     "text": [
      "Số lượng sản phẩm không được mua: []\n"
     ]
    }
   ],
   "source": [
    "#Những sản phẩm không được mua được xác định bằng số sản phẩm có trong df_full.Name mà không có trong df_full_buy['Name'] \n",
    "df_full_not_buy = df_full[~df_full['Name'].isin(df_full_buy['Name'])]\n",
    "san_pham_khong_duoc_mua = df_full_not_buy['Name'].unique()\n",
    "print('Số lượng sản phẩm không được mua:', san_pham_khong_duoc_mua)"
   ]
  },
  {
   "cell_type": "markdown",
   "metadata": {},
   "source": [
    "Sản phẩm được mua ít nhất là Ðèn bàn Ðiện Quang với 2 lần"
   ]
  },
  {
   "cell_type": "code",
   "execution_count": 27,
   "metadata": {},
   "outputs": [
    {
     "data": {
      "text/plain": [
       "Name\n",
       "Ðèn bàn Ðiện Quang                       2\n",
       "Nồi cơm điện Kangaroo                    4\n",
       "Phích cắm điện Ðiện Quang                4\n",
       "Sách cho trẻ từ 2-3 tuổi                 4\n",
       "Sách cho trẻ từ 4-5 tuổi                 5\n",
       "Sách Thám tử Sherlock Home               5\n",
       "Ðậu đỏ                                   5\n",
       "Sách Ðạo Tình                            6\n",
       "Sách cho trẻ sơ sinh đến 6 tháng tuổi    6\n",
       "Bếp điện từ Sunhouse                     7\n",
       "dtype: int64"
      ]
     },
     "execution_count": 27,
     "metadata": {},
     "output_type": "execute_result"
    }
   ],
   "source": [
    "#In số lượt mua của từng sản phẩm theo thứ tự từ bé đến lớn\n",
    "df_full_buy.groupby('Name').size().sort_values(ascending=True).head(10)"
   ]
  }
 ],
 "metadata": {
  "kernelspec": {
   "display_name": "Python 3",
   "language": "python",
   "name": "python3"
  },
  "language_info": {
   "codemirror_mode": {
    "name": "ipython",
    "version": 3
   },
   "file_extension": ".py",
   "mimetype": "text/x-python",
   "name": "python",
   "nbconvert_exporter": "python",
   "pygments_lexer": "ipython3",
   "version": "3.12.5"
  }
 },
 "nbformat": 4,
 "nbformat_minor": 2
}
