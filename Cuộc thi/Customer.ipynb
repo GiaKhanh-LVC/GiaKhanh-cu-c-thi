{
 "cells": [
  {
   "cell_type": "code",
   "execution_count": 4,
   "metadata": {},
   "outputs": [
    {
     "name": "stdout",
     "output_type": "stream",
     "text": [
      "[16  5  4  8  6 11  1 15  2  9 10 12 17  7  3  0 14 24 23 22 13 18 19 20\n",
      " 21]\n",
      "[ 0  1  2  3  4  5  6  7  8  9 10 11 12 13 14 15 16 17 18 19 20 21 22 23\n",
      " 24]\n",
      "Index(['Shelf ID', 'Person ID', 'Date', 'Time', 'Day', 'Age', 'Gender',\n",
      "       'Height_x', 'Weight', 'Married status', 'Item ID_x',\n",
      "       'Looking at item (s)', 'Holding the item (s)', 'Holding the bag',\n",
      "       'Picking up item', 'Returning item', 'Putting item into bag',\n",
      "       'Taking item out of bag', 'Putting item into bag in the 2nd time',\n",
      "       'Item ID_y', 'Name', 'Origin', 'Price', 'Marketing strategy',\n",
      "       'Discount ', 'Rate', 'Description', 'Width', 'Height_y', 'Length',\n",
      "       'Number of items', 'Shape'],\n",
      "      dtype='object')\n",
      "   Shelf ID  Person ID        Date      Time       Day  Age  Gender  Height_x  \\\n",
      "0         4          1  2024-07-06  10:00:00  Saturday   52  Female       162   \n",
      "1         4          1  2024-07-06  10:00:00  Saturday   52  Female       162   \n",
      "2         4          1  2024-07-06  10:00:00  Saturday   52  Female       162   \n",
      "3         4          1  2024-07-06  10:00:00  Saturday   52  Female       162   \n",
      "4         4          1  2024-07-06  10:00:00  Saturday   52  Female       162   \n",
      "\n",
      "   Weight Married status  ...      Price  Marketing strategy  Discount   Rate  \\\n",
      "0      41        Married  ...   52,000 ₫               False          5     5   \n",
      "1      41        Married  ...   59,000 ₫                True         10     3   \n",
      "2      41        Married  ...  145,000 ₫               False         20     3   \n",
      "3      41        Married  ...   56,500 ₫               False         25     3   \n",
      "4      41        Married  ...   79,000 ₫               False         10     5   \n",
      "\n",
      "   Description  Width Height_y Length Number of items    Shape  \n",
      "0  Quầy gia vị    500      180    100              19  Kệ hàng  \n",
      "1  Quầy gia vị    500      180    100              19  Kệ hàng  \n",
      "2  Quầy gia vị    500      180    100              19  Kệ hàng  \n",
      "3  Quầy gia vị    500      180    100              19  Kệ hàng  \n",
      "4  Quầy gia vị    500      180    100              19  Kệ hàng  \n",
      "\n",
      "[5 rows x 32 columns]\n"
     ]
    }
   ],
   "source": [
    "import pandas as pd\n",
    "df1=pd.read_csv('03_Customer_Behavior_Data_THPT.csv')\n",
    "df2=pd.read_csv('03_Item_information_Data_THPT.csv')\n",
    "df3=pd.read_csv('03_Shelf_Information_Data_THPT.csv')\n",
    "df_temp = pd.merge(df1, df2, on='Shelf ID', how='inner')\n",
    "df_master = pd.merge(df_temp, df3, on='Shelf ID', how='inner')\n",
    "print(df_master['Item ID_x'].unique())\n",
    "print(df_master['Item ID_y'].unique())\n",
    "print(df_master.columns)\n",
    "print(df_master.head())"
   ]
  },
  {
   "cell_type": "code",
   "execution_count": 5,
   "metadata": {},
   "outputs": [
    {
     "name": "stdout",
     "output_type": "stream",
     "text": [
      "   Item ID_x  Tổng lượt nhìn\n",
      "6          6          577406\n",
      "7          7          569839\n",
      "1          1          464091\n",
      "8          8          461510\n",
      "0          0          452643\n"
     ]
    }
   ],
   "source": [
    "#câu hỏi 1: Thống kê 5 mặt hàng với lượng khách hàng nhìn thấy nhiều nhất\n",
    "group_looked = df_master.groupby('Item ID_x')['Looking at item (s)'].sum().reset_index(name='Tổng lượt nhìn')\n",
    "top_5_items_looked = group_looked.sort_values(by='Tổng lượt nhìn', ascending=False).head(5)\n",
    "print(top_5_items_looked)"
   ]
  },
  {
   "cell_type": "code",
   "execution_count": 6,
   "metadata": {},
   "outputs": [
    {
     "name": "stdout",
     "output_type": "stream",
     "text": [
      "   Item ID_x  total (s)\n",
      "6          6    1095731\n",
      "7          7    1078667\n",
      "1          1     905554\n",
      "0          0     875481\n",
      "8          8     844727\n"
     ]
    }
   ],
   "source": [
    "#câu hỏi 2: Thống kê 5 mặt hàng có tổng thời gian nhìn và cầm xem lâu nhất\n",
    "df_master['total time (s)']=df_master['Looking at item (s)'] + df_master['Holding the item (s)']\n",
    "grouped = df_master.groupby('Item ID_x')['total time (s)'].sum().reset_index(name='total (s)')\n",
    "top_5_items = grouped.sort_values(by='total (s)', ascending=False).head(5)\n",
    "print(top_5_items)"
   ]
  },
  {
   "cell_type": "code",
   "execution_count": 7,
   "metadata": {},
   "outputs": [
    {
     "name": "stdout",
     "output_type": "stream",
     "text": [
      "   Item ID_x  Buys\n",
      "1          1  6804\n",
      "0          0  6720\n",
      "6          6  6675\n",
      "2          2  6476\n",
      "7          7  6325\n"
     ]
    }
   ],
   "source": [
    "#câu hỏi 3: Thống kê 5 mặt hàng được mua nhiều nhất\n",
    "df_master['Buy']=df_master['Putting item into bag in the 2nd time']==True\n",
    "grouped = df_master.groupby('Item ID_x')['Buy'].sum().reset_index(name='Buys')\n",
    "top_5_items = grouped.sort_values(by='Buys', ascending=False).head(5)\n",
    "print(top_5_items)"
   ]
  },
  {
   "cell_type": "code",
   "execution_count": 8,
   "metadata": {},
   "outputs": [
    {
     "name": "stdout",
     "output_type": "stream",
     "text": [
      "   Item ID_x  Return times\n",
      "6          6          7800\n",
      "5          5          7657\n",
      "8          8          7520\n",
      "7          7          7416\n",
      "3          3          6770\n"
     ]
    }
   ],
   "source": [
    "#câu hỏi 4: Thống kê 5 mặt hàng thường được cầm lên rồi trả lại nhiều nhất\n",
    "df_master['Return']=(df_master['Picking up item']==True) & (df_master['Returning item']==True)\n",
    "grouped = df_master.groupby('Item ID_x')['Return'].sum().reset_index(name='Return times')\n",
    "top_5_items = grouped.sort_values(by='Return times', ascending=False).head(5)\n",
    "print(top_5_items)"
   ]
  },
  {
   "cell_type": "code",
   "execution_count": 9,
   "metadata": {},
   "outputs": [
    {
     "name": "stdout",
     "output_type": "stream",
     "text": [
      "   Item ID_x  Thiếu niên\n",
      "1          1        4025\n",
      "   Item ID_x  Trung niên\n",
      "7          7        8260\n",
      "   Item ID_x  Cao tuổi\n",
      "8          8      4526\n"
     ]
    }
   ],
   "source": [
    "#câu hỏi 5: Các nhóm khách hàng theo độ tuổi (Thiếu niên: 18 - 30; Trung niên: 31 - 60; Cao tuổi: > 60) mua mặt hàng nào nhiều nhất?\n",
    "df_master['Thiếu niên'] = (df_master['Age'] >= 18) & (df_master['Age'] <= 30)\n",
    "df_master['Trung niên'] =(df_master['Age']>=31) & (df_master['Age']<=60)\n",
    "df_master['Cao tuổi'] =df_master['Age']>60\n",
    "set=['Thiếu niên','Trung niên','Cao tuổi']\n",
    "for i in set:\n",
    "    grouped = df_master.groupby('Item ID_x')[i].sum().reset_index(name=i)\n",
    "    top_1_items = grouped.sort_values(by=i, ascending=False).head(1)\n",
    "    print(top_1_items)"
   ]
  },
  {
   "cell_type": "code",
   "execution_count": 10,
   "metadata": {},
   "outputs": [
    {
     "name": "stdout",
     "output_type": "stream",
     "text": [
      "        Day  item_quantity\n",
      "2  Saturday         618017\n"
     ]
    }
   ],
   "source": [
    "#câu hỏi 6: Ngày nào trong tuần có doanh thu cao nhất?\n",
    "grouped = df_master.groupby('Day')['Item ID_x'].sum().reset_index(name='item_quantity')\n",
    "top_1_items = grouped.sort_values(by='item_quantity', ascending=False).head(1)\n",
    "print(top_1_items)"
   ]
  },
  {
   "cell_type": "code",
   "execution_count": null,
   "metadata": {},
   "outputs": [
    {
     "name": "stdout",
     "output_type": "stream",
     "text": [
      "    Nhóm tuổi  số lượt xuất hiện\n",
      "0    Cao tuổi              68081\n",
      "1  Thiếu niên              57558\n",
      "2  Trung niên             123187\n",
      "Nhóm tuổi có số người đi siêu thị nhiều nhất là: Trung niên với 123187 lượt xuất hiện.\n"
     ]
    }
   ],
   "source": [
    "#câu hỏi 7: Trong 3 nhóm tuổi sau: Thiếu niên (18 - 30),  Trung niên (31 - 60), Cao tuổi: (> 60),  nhóm tuổi nào có số người đi siêu thị nhiều nhất?\n",
    "group = df_master.groupby('Person ID').size().reset_index(name='số lượt xuất hiện')\n",
    "group = group.merge(df_master[['Person ID', 'Age']].drop_duplicates(), on='Person ID')\n",
    "\n",
    "def classify_age(age):\n",
    "    if 18 <= age <= 30:\n",
    "        return 'Thiếu niên'\n",
    "    elif 31 <= age <= 60:\n",
    "        return 'Trung niên'\n",
    "    else:\n",
    "        return 'Cao tuổi'\n",
    "\n",
    "group['Nhóm tuổi'] = group['Age'].apply(classify_age)\n",
    "result = group.groupby('Nhóm tuổi')['số lượt xuất hiện'].sum().reset_index()\n",
    "max_group = result.loc[result['số lượt xuất hiện'].idxmax()]\n",
    "print(result)\n",
    "print(f\"Nhóm tuổi có số người đi siêu thị nhiều nhất là: {max_group['Nhóm tuổi']} với {max_group['số lượt xuất hiện']} lượt xuất hiện.\")"
   ]
  },
  {
   "cell_type": "code",
   "execution_count": null,
   "metadata": {},
   "outputs": [
    {
     "name": "stdout",
     "output_type": "stream",
     "text": [
      "<class 'pandas.core.frame.DataFrame'>\n",
      "RangeIndex: 248826 entries, 0 to 248825\n",
      "Data columns (total 37 columns):\n",
      " #   Column                                 Non-Null Count   Dtype         \n",
      "---  ------                                 --------------   -----         \n",
      " 0   Shelf ID                               248826 non-null  int64         \n",
      " 1   Person ID                              248826 non-null  int64         \n",
      " 2   Date                                   15394 non-null   datetime64[ns]\n",
      " 3   Time                                   248826 non-null  object        \n",
      " 4   Day                                    248826 non-null  object        \n",
      " 5   Age                                    248826 non-null  int64         \n",
      " 6   Gender                                 248826 non-null  object        \n",
      " 7   Height_x                               248826 non-null  int64         \n",
      " 8   Weight                                 248826 non-null  int64         \n",
      " 9   Married status                         248826 non-null  object        \n",
      " 10  Item ID_x                              248826 non-null  int64         \n",
      " 11  Looking at item (s)                    248826 non-null  int64         \n",
      " 12  Holding the item (s)                   248826 non-null  int64         \n",
      " 13  Holding the bag                        248826 non-null  bool          \n",
      " 14  Picking up item                        248826 non-null  bool          \n",
      " 15  Returning item                         248826 non-null  bool          \n",
      " 16  Putting item into bag                  227262 non-null  object        \n",
      " 17  Taking item out of bag                 217484 non-null  object        \n",
      " 18  Putting item into bag in the 2nd time  205849 non-null  object        \n",
      " 19  Item ID_y                              248826 non-null  int64         \n",
      " 20  Name                                   248826 non-null  object        \n",
      " 21  Origin                                 248826 non-null  object        \n",
      " 22  Price                                  248826 non-null  object        \n",
      " 23  Marketing strategy                     248826 non-null  bool          \n",
      " 24  Discount                               248826 non-null  int64         \n",
      " 25  Rate                                   248826 non-null  int64         \n",
      " 26  Description                            248826 non-null  object        \n",
      " 27  Width                                  248826 non-null  int64         \n",
      " 28  Height_y                               248826 non-null  int64         \n",
      " 29  Length                                 248826 non-null  int64         \n",
      " 30  Number of items                        248826 non-null  int64         \n",
      " 31  Shape                                  248826 non-null  object        \n",
      " 32  Buy                                    248826 non-null  bool          \n",
      " 33  Return                                 248826 non-null  bool          \n",
      " 34  Thiếu niên                             248826 non-null  bool          \n",
      " 35  Trung niên                             248826 non-null  bool          \n",
      " 36  Cao tuổi                               248826 non-null  bool          \n",
      "dtypes: bool(9), datetime64[ns](1), int64(15), object(12)\n",
      "memory usage: 55.3+ MB\n",
      "None\n"
     ]
    }
   ],
   "source": [
    "print(df_master.info())"
   ]
  },
  {
   "cell_type": "code",
   "execution_count": null,
   "metadata": {},
   "outputs": [
    {
     "name": "stdout",
     "output_type": "stream",
     "text": [
      "    Item ID_x  BuywithDiscount\n",
      "0           0             2707\n",
      "6           6             2679\n",
      "11         11             2609\n",
      "8           8             2569\n",
      "1           1             2567\n"
     ]
    }
   ],
   "source": [
    "#câu hỏi 8: Top 5 các mặt hàng giảm giá được người dùng mua nhiều nhất?\n",
    "df_master['BuywithDiscount']=(df_master['Putting item into bag in the 2nd time']==True)&(df_master['Discount ']>0)\n",
    "grouped = df_master.groupby('Item ID_x')['BuywithDiscount'].sum().reset_index(name='BuywithDiscount')\n",
    "top_5_items = grouped.sort_values(by='BuywithDiscount', ascending=False).head(5)\n",
    "print(top_5_items)"
   ]
  },
  {
   "cell_type": "code",
   "execution_count": null,
   "metadata": {},
   "outputs": [
    {
     "name": "stdout",
     "output_type": "stream",
     "text": [
      "   Shelf ID  Tổng lượt cầm xem\n",
      "7         7            1603104\n",
      "1         1            1056024\n",
      "4         4             976467\n"
     ]
    }
   ],
   "source": [
    "#câu hỏi 9: Top 3 quầy hàng nào có lượt cầm xem nhiều nhất?\n",
    "group_holding = df_master.groupby('Shelf ID')['Holding the item (s)'].sum().reset_index(name='Tổng lượt cầm xem')\n",
    "top_3_sections_holding = group_holding.sort_values(by='Tổng lượt cầm xem', ascending=False).head(3)\n",
    "print(top_3_sections_holding)"
   ]
  },
  {
   "cell_type": "code",
   "execution_count": null,
   "metadata": {},
   "outputs": [
    {
     "name": "stdout",
     "output_type": "stream",
     "text": [
      "   Item ID_y  Total_Purchases\n",
      "0          0             3216\n",
      "5          6             2705\n",
      "8         10             2414\n"
     ]
    }
   ],
   "source": [
    "#câu hỏi 10: Trong số các sản phẩm được đánh giá cao nhất, top 3 sản phẩm nào được mua nhiều nhất?\n",
    "df_master['Buy']=df_master['Putting item into bag in the 2nd time']==True\n",
    "highly_rated_items = df_master[df_master['Rate'] > 4]\n",
    "grouped = highly_rated_items.groupby('Item ID_y')['Buy'].sum().reset_index(name='Total_Purchases')\n",
    "top_3_items = grouped.sort_values(by='Total_Purchases', ascending=False).head(3)\n",
    "print(top_3_items)"
   ]
  },
  {
   "cell_type": "code",
   "execution_count": 19,
   "metadata": {},
   "outputs": [
    {
     "name": "stdout",
     "output_type": "stream",
     "text": [
      "Mặt hàng được chú ý nhất trong nhóm: Thiếu niên\n",
      "             Name  Total_Time_Looked\n",
      "3    Bibigo Mandu              78394\n",
      "137  Bibigo Mandu              23050\n",
      "Mặt hàng được chú ý nhất trong nhóm: Trung niên\n",
      "             Name  Total_Time_Looked\n",
      "3    Bibigo Mandu              51259\n",
      "137  Bibigo Mandu              50185\n",
      "Mặt hàng được chú ý nhất trong nhóm: Cao tuổi\n",
      "             Name  Total_Time_Looked\n",
      "3    Bibigo Mandu              73235\n",
      "137  Bibigo Mandu              28209\n"
     ]
    }
   ],
   "source": [
    "#câu hỏi 11: Câu hỏi mở: Tìm ra mặt hàng hay được chú ý nhất của những nhóm khách hàng cụ thể\n",
    "groups = ['Thiếu niên', 'Trung niên', 'Cao tuổi']\n",
    "for group in groups:\n",
    "    grouped = df_master.groupby([group, 'Name'])['Looking at item (s)'].sum().reset_index(name='Total_Time_Looked')\n",
    "    top_item_per_group = grouped.loc[grouped.groupby(group)['Total_Time_Looked'].idxmax()]\n",
    "    print(f\"Mặt hàng được chú ý nhất trong nhóm: {group}\")\n",
    "    print(top_item_per_group[['Name', 'Total_Time_Looked']])"
   ]
  }
 ],
 "metadata": {
  "kernelspec": {
   "display_name": "Python 3",
   "language": "python",
   "name": "python3"
  },
  "language_info": {
   "codemirror_mode": {
    "name": "ipython",
    "version": 3
   },
   "file_extension": ".py",
   "mimetype": "text/x-python",
   "name": "python",
   "nbconvert_exporter": "python",
   "pygments_lexer": "ipython3",
   "version": "3.12.5"
  }
 },
 "nbformat": 4,
 "nbformat_minor": 2
}
